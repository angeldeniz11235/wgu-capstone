{
 "cells": [
  {
   "cell_type": "code",
   "execution_count": 2,
   "metadata": {},
   "outputs": [],
   "source": [
    "# load apple data from pickle file\n",
    "# if pickle is not imported, then import it\n",
    "if not 'pickle' in globals():\n",
    "    import pickle\n",
    "# load the pickle file\n",
    "apple_bars_df = pickle.load(open(\"apple_bar_data.pkl\", \"rb\"))"
   ]
  },
  {
   "cell_type": "code",
   "execution_count": 3,
   "metadata": {},
   "outputs": [
    {
     "name": "stdout",
     "output_type": "stream",
     "text": [
      "<class 'pandas.core.frame.DataFrame'>\n",
      "DatetimeIndex: 102559 entries, 2022-01-03 09:00:00+00:00 to 2022-06-30 23:59:00+00:00\n",
      "Data columns (total 7 columns):\n",
      " #   Column       Non-Null Count   Dtype  \n",
      "---  ------       --------------   -----  \n",
      " 0   open         102559 non-null  float64\n",
      " 1   high         102559 non-null  float64\n",
      " 2   low          102559 non-null  float64\n",
      " 3   close        102559 non-null  float64\n",
      " 4   volume       102559 non-null  int64  \n",
      " 5   trade_count  102559 non-null  int64  \n",
      " 6   vwap         102559 non-null  float64\n",
      "dtypes: float64(5), int64(2)\n",
      "memory usage: 6.3 MB\n"
     ]
    }
   ],
   "source": [
    "#show the head of the dataframe\n",
    "apple_bars_df.head()\n",
    "apple_bars_df.info()"
   ]
  },
  {
   "cell_type": "code",
   "execution_count": 3,
   "metadata": {},
   "outputs": [
    {
     "data": {
      "text/plain": [
       "Text(0.5, 0, 'Date')"
      ]
     },
     "execution_count": 3,
     "metadata": {},
     "output_type": "execute_result"
    },
    {
     "data": {
      "image/png": "[encoded data removed]",
      "text/plain": [
       "<Figure size 432x288 with 1 Axes>"
      ]
     },
     "metadata": {
      "needs_background": "light"
     },
     "output_type": "display_data"
    }
   ],
   "source": [
    "if not 'matplotlib' in globals():\n",
    "    import matplotlib.pyplot as plt\n",
    "# adjust figure size\n",
    "plt.rcParams['figure.figsize'] = (10, 8)\n",
    "# show a plot of the data\n",
    "plot = apple_bars_df.plot(use_index=True, y='open' )\n",
    "plot.add_line(plt.Line2D(apple_bars_df.index, apple_bars_df.close, color='red', linewidth=1, label='close'))\n",
    "# title the axes\n",
    "plot.set_title('Apple Stock Price')\n",
    "plot.set_ylabel('Price')\n",
    "plot.set_xlabel('Date')"
   ]
  },
  {
   "cell_type": "code",
   "execution_count": 4,
   "metadata": {},
   "outputs": [
    {
     "data": {
      "text/html": [
       "<div>\n",
       "<style scoped>\n",
       "    .dataframe tbody tr th:only-of-type {\n",
       "        vertical-align: middle;\n",
       "    }\n",
       "\n",
       "    .dataframe tbody tr th {\n",
       "        vertical-align: top;\n",
       "    }\n",
       "\n",
       "    .dataframe thead th {\n",
       "        text-align: right;\n",
       "    }\n",
       "</style>\n",
       "<table border=\"1\" class=\"dataframe\">\n",
       "  <thead>\n",
       "    <tr style=\"text-align: right;\">\n",
       "      <th></th>\n",
       "      <th>open</th>\n",
       "      <th>high</th>\n",
       "      <th>low</th>\n",
       "      <th>close</th>\n",
       "      <th>volume</th>\n",
       "      <th>trade_count</th>\n",
       "      <th>vwap</th>\n",
       "    </tr>\n",
       "  </thead>\n",
       "  <tbody>\n",
       "    <tr>\n",
       "      <th>open</th>\n",
       "      <td>1.000000</td>\n",
       "      <td>0.999962</td>\n",
       "      <td>0.999958</td>\n",
       "      <td>0.999954</td>\n",
       "      <td>-0.013452</td>\n",
       "      <td>-0.016690</td>\n",
       "      <td>0.999950</td>\n",
       "    </tr>\n",
       "    <tr>\n",
       "      <th>high</th>\n",
       "      <td>0.999962</td>\n",
       "      <td>1.000000</td>\n",
       "      <td>0.999918</td>\n",
       "      <td>0.999963</td>\n",
       "      <td>-0.011587</td>\n",
       "      <td>-0.013050</td>\n",
       "      <td>0.999950</td>\n",
       "    </tr>\n",
       "    <tr>\n",
       "      <th>low</th>\n",
       "      <td>0.999958</td>\n",
       "      <td>0.999918</td>\n",
       "      <td>1.000000</td>\n",
       "      <td>0.999961</td>\n",
       "      <td>-0.015192</td>\n",
       "      <td>-0.020382</td>\n",
       "      <td>0.999947</td>\n",
       "    </tr>\n",
       "    <tr>\n",
       "      <th>close</th>\n",
       "      <td>0.999954</td>\n",
       "      <td>0.999963</td>\n",
       "      <td>0.999961</td>\n",
       "      <td>1.000000</td>\n",
       "      <td>-0.013293</td>\n",
       "      <td>-0.016565</td>\n",
       "      <td>0.999957</td>\n",
       "    </tr>\n",
       "    <tr>\n",
       "      <th>volume</th>\n",
       "      <td>-0.013452</td>\n",
       "      <td>-0.011587</td>\n",
       "      <td>-0.015192</td>\n",
       "      <td>-0.013293</td>\n",
       "      <td>1.000000</td>\n",
       "      <td>0.394493</td>\n",
       "      <td>-0.013386</td>\n",
       "    </tr>\n",
       "    <tr>\n",
       "      <th>trade_count</th>\n",
       "      <td>-0.016690</td>\n",
       "      <td>-0.013050</td>\n",
       "      <td>-0.020382</td>\n",
       "      <td>-0.016565</td>\n",
       "      <td>0.394493</td>\n",
       "      <td>1.000000</td>\n",
       "      <td>-0.016730</td>\n",
       "    </tr>\n",
       "    <tr>\n",
       "      <th>vwap</th>\n",
       "      <td>0.999950</td>\n",
       "      <td>0.999950</td>\n",
       "      <td>0.999947</td>\n",
       "      <td>0.999957</td>\n",
       "      <td>-0.013386</td>\n",
       "      <td>-0.016730</td>\n",
       "      <td>1.000000</td>\n",
       "    </tr>\n",
       "  </tbody>\n",
       "</table>\n",
       "</div>"
      ],
      "text/plain": [
       "                 open      high       low     close    volume  trade_count  \\\n",
       "open         1.000000  0.999962  0.999958  0.999954 -0.013452    -0.016690   \n",
       "high         0.999962  1.000000  0.999918  0.999963 -0.011587    -0.013050   \n",
       "low          0.999958  0.999918  1.000000  0.999961 -0.015192    -0.020382   \n",
       "close        0.999954  0.999963  0.999961  1.000000 -0.013293    -0.016565   \n",
       "volume      -0.013452 -0.011587 -0.015192 -0.013293  1.000000     0.394493   \n",
       "trade_count -0.016690 -0.013050 -0.020382 -0.016565  0.394493     1.000000   \n",
       "vwap         0.999950  0.999950  0.999947  0.999957 -0.013386    -0.016730   \n",
       "\n",
       "                 vwap  \n",
       "open         0.999950  \n",
       "high         0.999950  \n",
       "low          0.999947  \n",
       "close        0.999957  \n",
       "volume      -0.013386  \n",
       "trade_count -0.016730  \n",
       "vwap         1.000000  "
      ]
     },
     "execution_count": 4,
     "metadata": {},
     "output_type": "execute_result"
    }
   ],
   "source": [
    "apple_bars_df.corr()"
   ]
  },
  {
   "cell_type": "code",
   "execution_count": 5,
   "metadata": {},
   "outputs": [
    {
     "data": {
      "text/plain": [
       "<AxesSubplot:>"
      ]
     },
     "execution_count": 5,
     "metadata": {},
     "output_type": "execute_result"
    },
    {
     "data": {
      "image/png": "[encoded data removed]",
      "text/plain": [
       "<Figure size 864x576 with 2 Axes>"
      ]
     },
     "metadata": {
      "needs_background": "light"
     },
     "output_type": "display_data"
    }
   ],
   "source": [
    "#import seaborn as sns if not imported\n",
    "if not 'sns' in globals():\n",
    "    import seaborn as sns\n",
    "# create a heatmap of the correlation matrix\n",
    "plt.figure(figsize=(12,8))\n",
    "sns.heatmap(apple_bars_df.corr(), annot=True, cmap='viridis')\n"
   ]
  },
  {
   "cell_type": "code",
   "execution_count": 4,
   "metadata": {},
   "outputs": [],
   "source": [
    "#convert the dataframe index to a column\n",
    "apple_bars_df['DateTime'] = apple_bars_df.index.to_pydatetime()\n",
    "# remove the index from the dataframe\n",
    "apple_bars_df = apple_bars_df.reset_index(drop=True)\n",
    "# show the head of the dataframe\n",
    "#apple_bars_df.head()"
   ]
  },
  {
   "cell_type": "code",
   "execution_count": 5,
   "metadata": {},
   "outputs": [],
   "source": [
    "#%%script false\n",
    "#drop all columns except for the DateTime and the vwap columns\n",
    "apple_bars_df = apple_bars_df.drop(columns=['open', 'high', 'low', 'close', 'volume','trade_count'])\n",
    "# show the head of the dataframe\n",
    "#apple_bars_df.head()"
   ]
  },
  {
   "cell_type": "code",
   "execution_count": 6,
   "metadata": {},
   "outputs": [],
   "source": [
    "#%%script false\n",
    "# create a new dataframe with a column called 'Date' that contains the date of the data and colums for every DateTime with the corresponding vwap value\n",
    "\n",
    "#create an array of all the unique dates in the dataframe\n",
    "dates = apple_bars_df['DateTime'].dt.date.unique()\n",
    "# make dates to list\n",
    "dates = dates.tolist()\n",
    "dates = list(map(lambda x: x.strftime('%Y-%m-%d'), dates))\n",
    "#dates\n"
   ]
  },
  {
   "cell_type": "code",
   "execution_count": 9,
   "metadata": {},
   "outputs": [],
   "source": [
    "#%%script false\n",
    "# import pandas as pd if not imported\n",
    "if not 'pd' in globals():\n",
    "    import pandas as pd\n",
    "    \n",
    "# in a new dataframe, for each date in the array, create a columns for every vwap value for that date\n",
    "apple_df = pd.DataFrame(index=dates, columns=range(0, 1000))\n",
    "\n",
    "# get all vwap values for each date\n",
    "for date in dates:\n",
    "    # get the vwap values for that date\n",
    "    vwap = apple_bars_df[apple_bars_df['DateTime'].dt.strftime('%Y-%m-%d') == date]['vwap'].tolist()\n",
    "    # fill vwap list with zeros to match the length of the columns\n",
    "    vwap = vwap + [0] * (1000 - len(vwap))\n",
    "    # create a column for that date\n",
    "    apple_df.loc[date] = vwap"
   ]
  },
  {
   "cell_type": "code",
   "execution_count": 10,
   "metadata": {},
   "outputs": [
    {
     "data": {
      "text/html": [
       "<div>\n",
       "<style scoped>\n",
       "    .dataframe tbody tr th:only-of-type {\n",
       "        vertical-align: middle;\n",
       "    }\n",
       "\n",
       "    .dataframe tbody tr th {\n",
       "        vertical-align: top;\n",
       "    }\n",
       "\n",
       "    .dataframe thead th {\n",
       "        text-align: right;\n",
       "    }\n",
       "</style>\n",
       "<table border=\"1\" class=\"dataframe\">\n",
       "  <thead>\n",
       "    <tr style=\"text-align: right;\">\n",
       "      <th></th>\n",
       "      <th>0</th>\n",
       "      <th>1</th>\n",
       "      <th>2</th>\n",
       "      <th>3</th>\n",
       "      <th>4</th>\n",
       "      <th>5</th>\n",
       "      <th>6</th>\n",
       "      <th>7</th>\n",
       "      <th>8</th>\n",
       "      <th>9</th>\n",
       "      <th>...</th>\n",
       "      <th>990</th>\n",
       "      <th>991</th>\n",
       "      <th>992</th>\n",
       "      <th>993</th>\n",
       "      <th>994</th>\n",
       "      <th>995</th>\n",
       "      <th>996</th>\n",
       "      <th>997</th>\n",
       "      <th>998</th>\n",
       "      <th>999</th>\n",
       "    </tr>\n",
       "  </thead>\n",
       "  <tbody>\n",
       "    <tr>\n",
       "      <th>2022-01-03</th>\n",
       "      <td>178.235733</td>\n",
       "      <td>178.331486</td>\n",
       "      <td>178.289889</td>\n",
       "      <td>178.207933</td>\n",
       "      <td>178.179138</td>\n",
       "      <td>178.042583</td>\n",
       "      <td>177.873264</td>\n",
       "      <td>177.87247</td>\n",
       "      <td>177.994209</td>\n",
       "      <td>177.915357</td>\n",
       "      <td>...</td>\n",
       "      <td>0</td>\n",
       "      <td>0</td>\n",
       "      <td>0</td>\n",
       "      <td>0</td>\n",
       "      <td>0</td>\n",
       "      <td>0</td>\n",
       "      <td>0</td>\n",
       "      <td>0</td>\n",
       "      <td>0</td>\n",
       "      <td>0</td>\n",
       "    </tr>\n",
       "    <tr>\n",
       "      <th>2022-01-04</th>\n",
       "      <td>181.904974</td>\n",
       "      <td>181.859539</td>\n",
       "      <td>181.845449</td>\n",
       "      <td>181.824149</td>\n",
       "      <td>181.843647</td>\n",
       "      <td>181.888155</td>\n",
       "      <td>181.881653</td>\n",
       "      <td>181.795025</td>\n",
       "      <td>181.824015</td>\n",
       "      <td>181.955434</td>\n",
       "      <td>...</td>\n",
       "      <td>0</td>\n",
       "      <td>0</td>\n",
       "      <td>0</td>\n",
       "      <td>0</td>\n",
       "      <td>0</td>\n",
       "      <td>0</td>\n",
       "      <td>0</td>\n",
       "      <td>0</td>\n",
       "      <td>0</td>\n",
       "      <td>0</td>\n",
       "    </tr>\n",
       "    <tr>\n",
       "      <th>2022-01-05</th>\n",
       "      <td>179.322448</td>\n",
       "      <td>179.339692</td>\n",
       "      <td>179.324874</td>\n",
       "      <td>179.335482</td>\n",
       "      <td>179.35</td>\n",
       "      <td>179.340266</td>\n",
       "      <td>179.341157</td>\n",
       "      <td>179.349428</td>\n",
       "      <td>179.3425</td>\n",
       "      <td>179.334831</td>\n",
       "      <td>...</td>\n",
       "      <td>0</td>\n",
       "      <td>0</td>\n",
       "      <td>0</td>\n",
       "      <td>0</td>\n",
       "      <td>0</td>\n",
       "      <td>0</td>\n",
       "      <td>0</td>\n",
       "      <td>0</td>\n",
       "      <td>0</td>\n",
       "      <td>0</td>\n",
       "    </tr>\n",
       "    <tr>\n",
       "      <th>2022-01-06</th>\n",
       "      <td>175.101076</td>\n",
       "      <td>175.155547</td>\n",
       "      <td>175.144149</td>\n",
       "      <td>175.103151</td>\n",
       "      <td>175.125732</td>\n",
       "      <td>175.107316</td>\n",
       "      <td>175.074358</td>\n",
       "      <td>175.068704</td>\n",
       "      <td>175.098636</td>\n",
       "      <td>175.133381</td>\n",
       "      <td>...</td>\n",
       "      <td>0</td>\n",
       "      <td>0</td>\n",
       "      <td>0</td>\n",
       "      <td>0</td>\n",
       "      <td>0</td>\n",
       "      <td>0</td>\n",
       "      <td>0</td>\n",
       "      <td>0</td>\n",
       "      <td>0</td>\n",
       "      <td>0</td>\n",
       "    </tr>\n",
       "    <tr>\n",
       "      <th>2022-01-07</th>\n",
       "      <td>172.607027</td>\n",
       "      <td>172.646683</td>\n",
       "      <td>172.634637</td>\n",
       "      <td>172.639361</td>\n",
       "      <td>172.604653</td>\n",
       "      <td>172.581681</td>\n",
       "      <td>172.63577</td>\n",
       "      <td>172.670661</td>\n",
       "      <td>172.649364</td>\n",
       "      <td>172.650006</td>\n",
       "      <td>...</td>\n",
       "      <td>0</td>\n",
       "      <td>0</td>\n",
       "      <td>0</td>\n",
       "      <td>0</td>\n",
       "      <td>0</td>\n",
       "      <td>0</td>\n",
       "      <td>0</td>\n",
       "      <td>0</td>\n",
       "      <td>0</td>\n",
       "      <td>0</td>\n",
       "    </tr>\n",
       "  </tbody>\n",
       "</table>\n",
       "<p>5 rows × 1000 columns</p>\n",
       "</div>"
      ],
      "text/plain": [
       "                   0           1           2           3           4    \\\n",
       "2022-01-03  178.235733  178.331486  178.289889  178.207933  178.179138   \n",
       "2022-01-04  181.904974  181.859539  181.845449  181.824149  181.843647   \n",
       "2022-01-05  179.322448  179.339692  179.324874  179.335482      179.35   \n",
       "2022-01-06  175.101076  175.155547  175.144149  175.103151  175.125732   \n",
       "2022-01-07  172.607027  172.646683  172.634637  172.639361  172.604653   \n",
       "\n",
       "                   5           6           7           8           9    ...  \\\n",
       "2022-01-03  178.042583  177.873264   177.87247  177.994209  177.915357  ...   \n",
       "2022-01-04  181.888155  181.881653  181.795025  181.824015  181.955434  ...   \n",
       "2022-01-05  179.340266  179.341157  179.349428    179.3425  179.334831  ...   \n",
       "2022-01-06  175.107316  175.074358  175.068704  175.098636  175.133381  ...   \n",
       "2022-01-07  172.581681   172.63577  172.670661  172.649364  172.650006  ...   \n",
       "\n",
       "           990 991 992 993 994 995 996 997 998 999  \n",
       "2022-01-03   0   0   0   0   0   0   0   0   0   0  \n",
       "2022-01-04   0   0   0   0   0   0   0   0   0   0  \n",
       "2022-01-05   0   0   0   0   0   0   0   0   0   0  \n",
       "2022-01-06   0   0   0   0   0   0   0   0   0   0  \n",
       "2022-01-07   0   0   0   0   0   0   0   0   0   0  \n",
       "\n",
       "[5 rows x 1000 columns]"
      ]
     },
     "execution_count": 10,
     "metadata": {},
     "output_type": "execute_result"
    }
   ],
   "source": [
    "#%%script false\n",
    "apple_df.head()\n"
   ]
  },
  {
   "cell_type": "code",
   "execution_count": null,
   "metadata": {},
   "outputs": [
    {
     "data": {
      "text/plain": [
       "'2022-01-03'"
      ]
     },
     "execution_count": 25,
     "metadata": {},
     "output_type": "execute_result"
    }
   ],
   "source": [
    "%%script false\n",
    "# some tests\n",
    "apple_bars_df[apple_bars_df['DateTime'].dt.date==dates[0]]['DateTime'].dt.minute.unique()\n",
    "apple_bars_df['DateTime'].dt.date.unique()[0].strftime('%Y-%m-%d')"
   ]
  },
  {
   "cell_type": "markdown",
   "metadata": {},
   "source": [
    "#save the dataframe to a pickle file\n",
    "apple_df.to_pickle('apple_df.pkl')"
   ]
  },
  {
   "cell_type": "code",
   "execution_count": 11,
   "metadata": {},
   "outputs": [],
   "source": [
    "#load the pickle file\n",
    "apple_df = pd.read_pickle('apple_df.pkl')"
   ]
  },
  {
   "cell_type": "code",
   "execution_count": 12,
   "metadata": {},
   "outputs": [
    {
     "name": "stdout",
     "output_type": "stream",
     "text": [
      "2022-01-03     True\n",
      "2022-01-04    False\n",
      "2022-01-05    False\n",
      "2022-01-06    False\n",
      "2022-01-07    False\n",
      "2022-01-08     True\n",
      "2022-01-10     True\n",
      "2022-01-11     True\n",
      "2022-01-12     True\n",
      "2022-01-13    False\n",
      "2022-01-14     True\n",
      "2022-01-15     True\n",
      "2022-01-18    False\n",
      "2022-01-19    False\n",
      "2022-01-20    False\n",
      "2022-01-21    False\n",
      "2022-01-22    False\n",
      "2022-01-24    False\n",
      "2022-01-25    False\n",
      "2022-01-26     True\n",
      "2022-01-27     True\n",
      "2022-01-28     True\n",
      "2022-01-29     True\n",
      "2022-01-31     True\n",
      "2022-02-01    False\n",
      "2022-02-02    False\n",
      "2022-02-03    False\n",
      "2022-02-04    False\n",
      "2022-02-05    False\n",
      "2022-02-07     True\n",
      "2022-02-08     True\n",
      "2022-02-09     True\n",
      "2022-02-10    False\n",
      "2022-02-11    False\n",
      "2022-02-12    False\n",
      "2022-02-14     True\n",
      "2022-02-15     True\n",
      "2022-02-16    False\n",
      "2022-02-17    False\n",
      "2022-02-18    False\n",
      "2022-02-19    False\n",
      "2022-02-22     True\n",
      "2022-02-23    False\n",
      "2022-02-24     True\n",
      "2022-02-25     True\n",
      "2022-02-26    False\n",
      "2022-02-28     True\n",
      "2022-03-01    False\n",
      "2022-03-02     True\n",
      "2022-03-03     True\n",
      "Name: gain, dtype: bool\n"
     ]
    }
   ],
   "source": [
    "#import numpy as np if not imported\n",
    "if not 'np' in globals():\n",
    "    import numpy as np\n",
    "# set 'gain' column to 1 if column '0' is less than the last non-zero column in the row\n",
    "apple_df['gain'] = apple_df.apply(lambda x: True if x[0] < x[x[x>0].last_valid_index()] else False, axis=1)\n",
    "\n",
    "#print the head of the dataframe showing the index and the gain column as well as column 0 and the last non-zero column\n",
    "print(apple_df.head(50)['gain'])"
   ]
  },
  {
   "cell_type": "code",
   "execution_count": 13,
   "metadata": {},
   "outputs": [],
   "source": [
    "# pickle the dataframe\n",
    "apple_df.to_pickle('apple_df_ML.pkl')"
   ]
  }
 ],
 "metadata": {
  "kernelspec": {
   "display_name": "Python 3.10.4 ('wgu-capstone')",
   "language": "python",
   "name": "python3"
  },
  "language_info": {
   "codemirror_mode": {
    "name": "ipython",
    "version": 3
   },
   "file_extension": ".py",
   "mimetype": "text/x-python",
   "name": "python",
   "nbconvert_exporter": "python",
   "pygments_lexer": "ipython3",
   "version": "3.10.4"
  },
  "orig_nbformat": 4,
  "vscode": {
   "interpreter": {
    "hash": "28892a974b391ec4cda080504c9714056d5a77d99c120a0e73eaf6e1e5cc7d13"
   }
  }
 },
 "nbformat": 4,
 "nbformat_minor": 2
}
