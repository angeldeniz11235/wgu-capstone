{
 "cells": [
  {
   "cell_type": "code",
   "execution_count": 1,
   "metadata": {},
   "outputs": [],
   "source": [
    "from alpaca_trade_api.rest import REST, TimeFrame\n",
    "from alpaca_trade_api.stream import Stream\n",
    "\n",
    "# Import the API keys\n",
    "api_id = \"PKLXRG5MYKH326I8J1DV\"\n",
    "api_secret = \"TxPfLNWc7HlulXh17NLCX0ser8wrlqXmbjYKriiB\"\n",
    "\n",
    "# Create the REST API object for paper trading\n",
    "rest_api = REST(api_id, api_secret,'https://paper-api.alpaca.markets')"
   ]
  },
  {
   "cell_type": "code",
   "execution_count": 3,
   "metadata": {},
   "outputs": [
    {
     "name": "stderr",
     "output_type": "stream",
     "text": [
      "sleep 3 seconds and retrying https://data.alpaca.markets/v2/stocks/AAPL/bars 3 more time(s)...\n",
      "sleep 3 seconds and retrying https://data.alpaca.markets/v2/stocks/AAPL/bars 3 more time(s)...\n"
     ]
    }
   ],
   "source": [
    "#import datetime\n",
    "import datetime as dt\n",
    "\n",
    "# get todays date\n",
    "today = dt.datetime.now().date()\n",
    "#today.strftime(\"%Y-%m-%d\")\n",
    "\n",
    "# date of end of last month\n",
    "end_date_last_month = today - dt.timedelta(days=today.day) \n",
    "\n",
    "# first day of 2021\n",
    "start_date_2022 = dt.date(2020, 10, 1)\n",
    "\n",
    "# Get bar data for apple stock from the last 2 years\n",
    "apple_bars = rest_api.get_bars('AAPL', TimeFrame.Minute, start=start_date_2022.strftime(\"%Y-%m-%d\"), end=end_date_last_month.strftime(\"%Y-%m-%d\"))\n",
    "\n",
    "# Save the apple_bars dataframe to a pickle file\n",
    "apple_bars.df.to_pickle(\"data/apple_bar_data.pkl\")"
   ]
  },
  {
   "cell_type": "code",
   "execution_count": 4,
   "metadata": {},
   "outputs": [
    {
     "data": {
      "text/plain": [
       "(365786, 7)"
      ]
     },
     "execution_count": 4,
     "metadata": {},
     "output_type": "execute_result"
    }
   ],
   "source": [
    "apple_bars.df.shape"
   ]
  },
  {
   "cell_type": "code",
   "execution_count": null,
   "metadata": {},
   "outputs": [],
   "source": [
    "# get data from the past month to test the model\n",
    "\n",
    "#import datetime\n",
    "import datetime as dt\n",
    "\n",
    "# get todays date\n",
    "today = dt.datetime.now().date()\n",
    "#today.strftime(\"%Y-%m-%d\")\n",
    "\n",
    "# begining of this month\n",
    "start_date = dt.datetime.now().replace(day=1)\n",
    "\n",
    "# yesterday's date\n",
    "end_date = dt.datetime.now() - dt.timedelta(days=1)\n",
    "\n",
    "# Get bar data for apple stock from the last 2 years\n",
    "apple_bars = rest_api.get_bars('AAPL', TimeFrame.Minute, start=start_date.strftime(\"%Y-%m-%d\"), end=end_date.strftime(\"%Y-%m-%d\"))\n",
    "\n",
    "# Save the apple_bars dataframe to a pickle file\n",
    "apple_bars.df.to_pickle(\"data/apple_bar_TEST_data.pkl\")"
   ]
  }
 ],
 "metadata": {
  "kernelspec": {
   "display_name": "Python 3.8.13 ('wgu-capstone')",
   "language": "python",
   "name": "python3"
  },
  "language_info": {
   "codemirror_mode": {
    "name": "ipython",
    "version": 3
   },
   "file_extension": ".py",
   "mimetype": "text/x-python",
   "name": "python",
   "nbconvert_exporter": "python",
   "pygments_lexer": "ipython3",
   "version": "3.8.13"
  },
  "vscode": {
   "interpreter": {
    "hash": "02d0f46bd8f1fdf8b73c9fc1dd04100c34e4745cdd21357cfe7f08ba31857232"
   }
  }
 },
 "nbformat": 4,
 "nbformat_minor": 2
}
