{
 "cells": [
  {
   "cell_type": "code",
   "execution_count": 1,
   "metadata": {},
   "outputs": [],
   "source": [
    "from alpaca_trade_api.rest import REST, TimeFrame\n",
    "from alpaca_trade_api.stream import Stream\n",
    "\n",
    "# Import the API keys\n",
    "api_id = \"PKLXRG5MYKH326I8J1DV\"\n",
    "api_secret = \"TxPfLNWc7HlulXh17NLCX0ser8wrlqXmbjYKriiB\"\n",
    "\n",
    "# Create the REST API object for paper trading\n",
    "rest_api = REST(api_id, api_secret,'https://paper-api.alpaca.markets')"
   ]
  },
  {
   "cell_type": "code",
   "execution_count": null,
   "metadata": {},
   "outputs": [],
   "source": [
    "#import datetime\n",
    "import datetime as dt\n",
    "\n",
    "# get todays date\n",
    "today = dt.datetime.now().date()\n",
    "#today.strftime(\"%Y-%m-%d\")\n",
    "\n",
    "# date of end of last month\n",
    "end_date_last_month = today - dt.timedelta(days=today.day) \n",
    "\n",
    "# first day of 2021\n",
    "start_date_2020 = dt.date(2021, 1, 1)\n",
    "\n",
    "# Get bar data for apple stock from the last 2 years\n",
    "apple_bars = rest_api.get_bars('AAPL', TimeFrame.Minute, start_date_2020.strftime(\"%Y-%m-%d\"), end_date_last_month.strftime(\"%Y-%m-%d\"))\n",
    "\n",
    "# Save the apple_bars dataframe to a pickle file\n",
    "apple_bars.df.to_pickle(\"apple_bar_data.pkl\")"
   ]
  }
 ],
 "metadata": {
  "kernelspec": {
   "display_name": "Python 3 (ipykernel)",
   "language": "python",
   "name": "python3"
  },
  "language_info": {
   "codemirror_mode": {
    "name": "ipython",
    "version": 3
   },
   "file_extension": ".py",
   "mimetype": "text/x-python",
   "name": "python",
   "nbconvert_exporter": "python",
   "pygments_lexer": "ipython3",
   "version": "3.8.13"
  },
  "vscode": {
   "interpreter": {
    "hash": "02d0f46bd8f1fdf8b73c9fc1dd04100c34e4745cdd21357cfe7f08ba31857232"
   }
  }
 },
 "nbformat": 4,
 "nbformat_minor": 2
}
