{
 "cells": [
  {
   "cell_type": "code",
   "execution_count": 1,
   "metadata": {},
   "outputs": [],
   "source": [
    "from alpaca_trade_api.rest import REST, TimeFrame\n",
    "from alpaca_trade_api.stream import Stream\n",
    "\n",
    "# Import the API keys\n",
    "api_id = \"PKLXRG5MYKH326I8J1DV\"\n",
    "api_secret = \"TxPfLNWc7HlulXh17NLCX0ser8wrlqXmbjYKriiB\"\n",
    "\n",
    "# Create the REST API object for paper trading\n",
    "rest_api = REST(api_id, api_secret,'https://paper-api.alpaca.markets')"
   ]
  },
  {
   "cell_type": "code",
   "execution_count": 6,
   "metadata": {},
   "outputs": [],
   "source": [
    "#import datetime\n",
    "import datetime as dt\n",
    "\n",
    "# get todays date\n",
    "today = dt.datetime.now().date()\n",
    "#today.strftime(\"%Y-%m-%d\")\n",
    "\n",
    "# date of end of last month\n",
    "end_date_last_month = today - dt.timedelta(days=today.day) \n",
    "\n",
    "# first day of 2021\n",
    "start_date_2022 = dt.date(2022, 1, 1)\n",
    "\n",
    "# Get bar data for apple stock from the last 2 years\n",
    "apple_bars = rest_api.get_bars('AAPL', TimeFrame.Minute, start=start_date_2022.strftime(\"%Y-%m-%d\"), end=end_date_last_month.strftime(\"%Y-%m-%d\"))\n",
    "\n",
    "# Save the apple_bars dataframe to a pickle file\n",
    "apple_bars.df.to_pickle(\"apple_bar_data.pkl\")"
   ]
  },
  {
   "cell_type": "code",
   "execution_count": 7,
   "metadata": {},
   "outputs": [
    {
     "data": {
      "text/plain": [
       "(102559, 7)"
      ]
     },
     "execution_count": 7,
     "metadata": {},
     "output_type": "execute_result"
    }
   ],
   "source": [
    "apple_bars.df.shape"
   ]
  }
 ],
 "metadata": {
  "kernelspec": {
   "display_name": "Python 3.10.4 ('wgu-capstone')",
   "language": "python",
   "name": "python3"
  },
  "language_info": {
   "codemirror_mode": {
    "name": "ipython",
    "version": 3
   },
   "file_extension": ".py",
   "mimetype": "text/x-python",
   "name": "python",
   "nbconvert_exporter": "python",
   "pygments_lexer": "ipython3",
   "version": "3.10.4"
  },
  "vscode": {
   "interpreter": {
    "hash": "28892a974b391ec4cda080504c9714056d5a77d99c120a0e73eaf6e1e5cc7d13"
   }
  }
 },
 "nbformat": 4,
 "nbformat_minor": 2
}
