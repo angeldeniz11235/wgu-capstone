{
 "cells": [
  {
   "cell_type": "code",
   "execution_count": 2,
   "metadata": {},
   "outputs": [],
   "source": [
    "from alpaca_trade_api.rest import REST, TimeFrame\n",
    "from alpaca_trade_api.stream import Stream\n",
    "\n",
    "# Import the API keys\n",
    "api_id = \"PKX7LJVBEOAWQB6L7HSR\"\n",
    "api_secret = \"tz7PzLbQgH3oFcrTUZSWTholaaOmQECPnIz5MbWV\"\n",
    "\n",
    "# Create the REST API object for paper trading\n",
    "rest_api = REST(api_id, api_secret,'https://paper-api.alpaca.markets')"
   ]
  },
  {
   "cell_type": "code",
   "execution_count": 4,
   "metadata": {},
   "outputs": [
    {
     "ename": "APIError",
     "evalue": "your subscription does not permit querying data from the past 15 minutes",
     "output_type": "error",
     "traceback": [
      "\u001b[0;31m---------------------------------------------------------------------------\u001b[0m",
      "\u001b[0;31mHTTPError\u001b[0m                                 Traceback (most recent call last)",
      "File \u001b[0;32m/opt/anaconda/envs/wgu-capstone/lib/python3.10/site-packages/alpaca_trade_api/rest.py:234\u001b[0m, in \u001b[0;36mREST._one_request\u001b[0;34m(self, method, url, opts, retry)\u001b[0m\n\u001b[1;32m    233\u001b[0m \u001b[39mtry\u001b[39;00m:\n\u001b[0;32m--> 234\u001b[0m     resp\u001b[39m.\u001b[39;49mraise_for_status()\n\u001b[1;32m    235\u001b[0m \u001b[39mexcept\u001b[39;00m HTTPError \u001b[39mas\u001b[39;00m http_error:\n\u001b[1;32m    236\u001b[0m     \u001b[39m# retry if we hit Rate Limit\u001b[39;00m\n",
      "File \u001b[0;32m/opt/anaconda/envs/wgu-capstone/lib/python3.10/site-packages/requests/models.py:1021\u001b[0m, in \u001b[0;36mResponse.raise_for_status\u001b[0;34m(self)\u001b[0m\n\u001b[1;32m   1020\u001b[0m \u001b[39mif\u001b[39;00m http_error_msg:\n\u001b[0;32m-> 1021\u001b[0m     \u001b[39mraise\u001b[39;00m HTTPError(http_error_msg, response\u001b[39m=\u001b[39m\u001b[39mself\u001b[39m)\n",
      "\u001b[0;31mHTTPError\u001b[0m: 422 Client Error: Unprocessable Entity for url: https://data.alpaca.markets/v2/stocks/AAPL/bars?timeframe=1Min&adjustment=raw&start=2022-07-15&end=2022-08-02",
      "\nDuring handling of the above exception, another exception occurred:\n",
      "\u001b[0;31mAPIError\u001b[0m                                  Traceback (most recent call last)",
      "\u001b[1;32m/home/j3rk/Desktop/programming.local/wgu-capstone/dl-data-alpaca-api.ipynb Cell 2\u001b[0m in \u001b[0;36m<cell line: 16>\u001b[0;34m()\u001b[0m\n\u001b[1;32m     <a href='vscode-notebook-cell:/home/j3rk/Desktop/programming.local/wgu-capstone/dl-data-alpaca-api.ipynb#ch0000001?line=12'>13</a>\u001b[0m start_date_2022 \u001b[39m=\u001b[39m dt\u001b[39m.\u001b[39mdate(\u001b[39m2022\u001b[39m, \u001b[39m7\u001b[39m, \u001b[39m15\u001b[39m)\n\u001b[1;32m     <a href='vscode-notebook-cell:/home/j3rk/Desktop/programming.local/wgu-capstone/dl-data-alpaca-api.ipynb#ch0000001?line=14'>15</a>\u001b[0m \u001b[39m# Get bar data for apple stock from the last 2 years\u001b[39;00m\n\u001b[0;32m---> <a href='vscode-notebook-cell:/home/j3rk/Desktop/programming.local/wgu-capstone/dl-data-alpaca-api.ipynb#ch0000001?line=15'>16</a>\u001b[0m apple_bars \u001b[39m=\u001b[39m rest_api\u001b[39m.\u001b[39;49mget_bars(\u001b[39m'\u001b[39;49m\u001b[39mAAPL\u001b[39;49m\u001b[39m'\u001b[39;49m, TimeFrame\u001b[39m.\u001b[39;49mMinute, start\u001b[39m=\u001b[39;49mstart_date_2022\u001b[39m.\u001b[39;49mstrftime(\u001b[39m\"\u001b[39;49m\u001b[39m%\u001b[39;49m\u001b[39mY-\u001b[39;49m\u001b[39m%\u001b[39;49m\u001b[39mm-\u001b[39;49m\u001b[39m%d\u001b[39;49;00m\u001b[39m\"\u001b[39;49m), end\u001b[39m=\u001b[39;49mend_date   )\n",
      "File \u001b[0;32m/opt/anaconda/envs/wgu-capstone/lib/python3.10/site-packages/alpaca_trade_api/rest.py:714\u001b[0m, in \u001b[0;36mREST.get_bars\u001b[0;34m(self, symbol, timeframe, start, end, adjustment, limit, feed, asof)\u001b[0m\n\u001b[1;32m    704\u001b[0m \u001b[39mdef\u001b[39;00m \u001b[39mget_bars\u001b[39m(\u001b[39mself\u001b[39m,\n\u001b[1;32m    705\u001b[0m              symbol: Union[\u001b[39mstr\u001b[39m, List[\u001b[39mstr\u001b[39m]],\n\u001b[1;32m    706\u001b[0m              timeframe: TimeFrame,\n\u001b[0;32m   (...)\u001b[0m\n\u001b[1;32m    712\u001b[0m              asof: Optional[\u001b[39mstr\u001b[39m] \u001b[39m=\u001b[39m \u001b[39mNone\u001b[39;00m,\n\u001b[1;32m    713\u001b[0m              ) \u001b[39m-\u001b[39m\u001b[39m>\u001b[39m BarsV2:\n\u001b[0;32m--> 714\u001b[0m     bars \u001b[39m=\u001b[39m \u001b[39mlist\u001b[39;49m(\u001b[39mself\u001b[39;49m\u001b[39m.\u001b[39;49mget_bars_iter(symbol,\n\u001b[1;32m    715\u001b[0m                                    timeframe,\n\u001b[1;32m    716\u001b[0m                                    start,\n\u001b[1;32m    717\u001b[0m                                    end,\n\u001b[1;32m    718\u001b[0m                                    adjustment,\n\u001b[1;32m    719\u001b[0m                                    limit,\n\u001b[1;32m    720\u001b[0m                                    feed\u001b[39m=\u001b[39;49mfeed,\n\u001b[1;32m    721\u001b[0m                                    asof\u001b[39m=\u001b[39;49masof,\n\u001b[1;32m    722\u001b[0m                                    raw\u001b[39m=\u001b[39;49m\u001b[39mTrue\u001b[39;49;00m))\n\u001b[1;32m    723\u001b[0m     \u001b[39mreturn\u001b[39;00m BarsV2(bars)\n",
      "File \u001b[0;32m/opt/anaconda/envs/wgu-capstone/lib/python3.10/site-packages/alpaca_trade_api/rest.py:698\u001b[0m, in \u001b[0;36mREST.get_bars_iter\u001b[0;34m(self, symbol, timeframe, start, end, adjustment, limit, feed, asof, raw)\u001b[0m\n\u001b[1;32m    680\u001b[0m \u001b[39mdef\u001b[39;00m \u001b[39mget_bars_iter\u001b[39m(\u001b[39mself\u001b[39m,\n\u001b[1;32m    681\u001b[0m                   symbol: Union[\u001b[39mstr\u001b[39m, List[\u001b[39mstr\u001b[39m]],\n\u001b[1;32m    682\u001b[0m                   timeframe: TimeFrame,\n\u001b[0;32m   (...)\u001b[0m\n\u001b[1;32m    688\u001b[0m                   asof: Optional[\u001b[39mstr\u001b[39m] \u001b[39m=\u001b[39m \u001b[39mNone\u001b[39;00m,\n\u001b[1;32m    689\u001b[0m                   raw\u001b[39m=\u001b[39m\u001b[39mFalse\u001b[39;00m) \u001b[39m-\u001b[39m\u001b[39m>\u001b[39m BarIterator:\n\u001b[1;32m    690\u001b[0m     bars \u001b[39m=\u001b[39m \u001b[39mself\u001b[39m\u001b[39m.\u001b[39m_data_get(\u001b[39m'\u001b[39m\u001b[39mbars\u001b[39m\u001b[39m'\u001b[39m, symbol,\n\u001b[1;32m    691\u001b[0m                           timeframe\u001b[39m=\u001b[39mtimeframe,\n\u001b[1;32m    692\u001b[0m                           adjustment\u001b[39m=\u001b[39madjustment,\n\u001b[0;32m   (...)\u001b[0m\n\u001b[1;32m    696\u001b[0m                           feed\u001b[39m=\u001b[39mfeed,\n\u001b[1;32m    697\u001b[0m                           asof\u001b[39m=\u001b[39masof)\n\u001b[0;32m--> 698\u001b[0m     \u001b[39mfor\u001b[39;00m bar \u001b[39min\u001b[39;00m bars:\n\u001b[1;32m    699\u001b[0m         \u001b[39mif\u001b[39;00m raw:\n\u001b[1;32m    700\u001b[0m             \u001b[39myield\u001b[39;00m bar\n",
      "File \u001b[0;32m/opt/anaconda/envs/wgu-capstone/lib/python3.10/site-packages/alpaca_trade_api/rest.py:585\u001b[0m, in \u001b[0;36mREST._data_get\u001b[0;34m(self, endpoint, symbol_or_symbols, api_version, endpoint_base, resp_grouped_by_symbol, page_limit, feed, asof, **kwargs)\u001b[0m\n\u001b[1;32m    583\u001b[0m \u001b[39mif\u001b[39;00m endpoint:\n\u001b[1;32m    584\u001b[0m     path \u001b[39m+\u001b[39m\u001b[39m=\u001b[39m \u001b[39mf\u001b[39m\u001b[39m'\u001b[39m\u001b[39m/\u001b[39m\u001b[39m{\u001b[39;00mendpoint\u001b[39m}\u001b[39;00m\u001b[39m'\u001b[39m\n\u001b[0;32m--> 585\u001b[0m resp \u001b[39m=\u001b[39m \u001b[39mself\u001b[39;49m\u001b[39m.\u001b[39;49mdata_get(path, data\u001b[39m=\u001b[39;49mdata, feed\u001b[39m=\u001b[39;49mfeed,\n\u001b[1;32m    586\u001b[0m                      api_version\u001b[39m=\u001b[39;49mapi_version)\n\u001b[1;32m    587\u001b[0m \u001b[39mif\u001b[39;00m \u001b[39mnot\u001b[39;00m resp_grouped_by_symbol:\n\u001b[1;32m    588\u001b[0m     k \u001b[39m=\u001b[39m endpoint \u001b[39mor\u001b[39;00m endpoint_base\n",
      "File \u001b[0;32m/opt/anaconda/envs/wgu-capstone/lib/python3.10/site-packages/alpaca_trade_api/rest.py:270\u001b[0m, in \u001b[0;36mREST.data_get\u001b[0;34m(self, path, data, feed, api_version)\u001b[0m\n\u001b[1;32m    268\u001b[0m     data \u001b[39m=\u001b[39m data \u001b[39mor\u001b[39;00m {}\n\u001b[1;32m    269\u001b[0m     data[\u001b[39m'\u001b[39m\u001b[39mfeed\u001b[39m\u001b[39m'\u001b[39m] \u001b[39m=\u001b[39m feed\n\u001b[0;32m--> 270\u001b[0m \u001b[39mreturn\u001b[39;00m \u001b[39mself\u001b[39;49m\u001b[39m.\u001b[39;49m_request(\n\u001b[1;32m    271\u001b[0m     \u001b[39m'\u001b[39;49m\u001b[39mGET\u001b[39;49m\u001b[39m'\u001b[39;49m, path, data, base_url\u001b[39m=\u001b[39;49mbase_url, api_version\u001b[39m=\u001b[39;49mapi_version,\n\u001b[1;32m    272\u001b[0m )\n",
      "File \u001b[0;32m/opt/anaconda/envs/wgu-capstone/lib/python3.10/site-packages/alpaca_trade_api/rest.py:213\u001b[0m, in \u001b[0;36mREST._request\u001b[0;34m(self, method, path, data, base_url, api_version)\u001b[0m\n\u001b[1;32m    211\u001b[0m \u001b[39mwhile\u001b[39;00m retry \u001b[39m>\u001b[39m\u001b[39m=\u001b[39m \u001b[39m0\u001b[39m:\n\u001b[1;32m    212\u001b[0m     \u001b[39mtry\u001b[39;00m:\n\u001b[0;32m--> 213\u001b[0m         \u001b[39mreturn\u001b[39;00m \u001b[39mself\u001b[39;49m\u001b[39m.\u001b[39;49m_one_request(method, url, opts, retry)\n\u001b[1;32m    214\u001b[0m     \u001b[39mexcept\u001b[39;00m RetryException:\n\u001b[1;32m    215\u001b[0m         retry_wait \u001b[39m=\u001b[39m \u001b[39mself\u001b[39m\u001b[39m.\u001b[39m_retry_wait\n",
      "File \u001b[0;32m/opt/anaconda/envs/wgu-capstone/lib/python3.10/site-packages/alpaca_trade_api/rest.py:242\u001b[0m, in \u001b[0;36mREST._one_request\u001b[0;34m(self, method, url, opts, retry)\u001b[0m\n\u001b[1;32m    240\u001b[0m     error \u001b[39m=\u001b[39m resp\u001b[39m.\u001b[39mjson()\n\u001b[1;32m    241\u001b[0m     \u001b[39mif\u001b[39;00m \u001b[39m'\u001b[39m\u001b[39mcode\u001b[39m\u001b[39m'\u001b[39m \u001b[39min\u001b[39;00m error:\n\u001b[0;32m--> 242\u001b[0m         \u001b[39mraise\u001b[39;00m APIError(error, http_error)\n\u001b[1;32m    243\u001b[0m \u001b[39melse\u001b[39;00m:\n\u001b[1;32m    244\u001b[0m     \u001b[39mraise\u001b[39;00m\n",
      "\u001b[0;31mAPIError\u001b[0m: your subscription does not permit querying data from the past 15 minutes"
     ]
    }
   ],
   "source": [
    "#import datetime\n",
    "import datetime as dt\n",
    "\n",
    "# get todays date\n",
    "today = dt.datetime.now().date()\n",
    "#today.strftime(\"%Y-%m-%d\")\n",
    "\n",
    "# date of end of last month\n",
    "#end_date_last_month = today - dt.timedelta(days=today.day) \n",
    "end_date = (today - dt.timedelta(days=1)).strftime(\"%Y-%m-%d\")\n",
    "\n",
    "# first day of 2021\n",
    "start_date_2022 = dt.date(2022, 7, 15)\n",
    "\n",
    "# Get bar data for apple stock from the last 2 years\n",
    "apple_bars = rest_api.get_bars('AAPL', TimeFrame.Minute, start=start_date_2022.strftime(\"%Y-%m-%d\"), end=end_date   )\n",
    "\n",
    "# Save the apple_bars dataframe to a pickle file\n",
    "#apple_bars.df.to_pickle(\"data/apple_bar_data.pkl\")"
   ]
  },
  {
   "cell_type": "code",
   "execution_count": 4,
   "metadata": {},
   "outputs": [
    {
     "data": {
      "text/plain": [
       "(365786, 7)"
      ]
     },
     "execution_count": 4,
     "metadata": {},
     "output_type": "execute_result"
    }
   ],
   "source": [
    "apple_bars.df.shape"
   ]
  },
  {
   "cell_type": "code",
   "execution_count": null,
   "metadata": {},
   "outputs": [],
   "source": [
    "# get data from the past month to test the model\n",
    "\n",
    "#import datetime\n",
    "import datetime as dt\n",
    "\n",
    "# get todays date\n",
    "today = dt.datetime.now().date()\n",
    "#today.strftime(\"%Y-%m-%d\")\n",
    "\n",
    "# begining of this month\n",
    "start_date = dt.datetime.now().replace(day=1)\n",
    "\n",
    "# yesterday's date\n",
    "end_date = dt.datetime.now() - dt.timedelta(days=1)\n",
    "\n",
    "# Get bar data for apple stock from the last 2 years\n",
    "apple_bars = rest_api.get_bars('AAPL', TimeFrame.Minute, start=start_date.strftime(\"%Y-%m-%d\"), end=end_date.strftime(\"%Y-%m-%d\"))\n",
    "\n",
    "# Save the apple_bars dataframe to a pickle file\n",
    "apple_bars.df.to_pickle(\"data/apple_bar_TEST_data.pkl\")"
   ]
  }
 ],
 "metadata": {
  "kernelspec": {
   "display_name": "Python 3.10.4 ('wgu-capstone')",
   "language": "python",
   "name": "python3"
  },
  "language_info": {
   "codemirror_mode": {
    "name": "ipython",
    "version": 3
   },
   "file_extension": ".py",
   "mimetype": "text/x-python",
   "name": "python",
   "nbconvert_exporter": "python",
   "pygments_lexer": "ipython3",
   "version": "3.10.4"
  },
  "vscode": {
   "interpreter": {
    "hash": "28892a974b391ec4cda080504c9714056d5a77d99c120a0e73eaf6e1e5cc7d13"
   }
  }
 },
 "nbformat": 4,
 "nbformat_minor": 2
}
