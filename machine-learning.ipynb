{
 "cells": [
  {
   "cell_type": "code",
   "execution_count": 138,
   "metadata": {},
   "outputs": [],
   "source": [
    "#imports\n",
    "import pickle\n",
    "import pandas as pd\n",
    "import numpy as np\n"
   ]
  },
  {
   "cell_type": "code",
   "execution_count": 139,
   "metadata": {},
   "outputs": [],
   "source": [
    "#load apple_df_ML.pkl\n",
    "apple_df_ML = pickle.load(open('apple_df_ML.pkl', 'rb'))\n"
   ]
  },
  {
   "cell_type": "code",
   "execution_count": 140,
   "metadata": {},
   "outputs": [
    {
     "data": {
      "text/plain": [
       "array([[116.759684, 116.865102, 116.747758, ..., 116.736085, 116.768768,\n",
       "        116.790573],\n",
       "       [114.420705, 114.002524, 113.957528, ..., 114.433863, 114.488096,\n",
       "        114.661564],\n",
       "       [113.606819, 113.845019, 113.947424, ..., 115.136823, 115.125646,\n",
       "        115.174199],\n",
       "       ...,\n",
       "       [141.985858, 142.114042, 142.227377, ..., 138.915147, 138.994524,\n",
       "        138.938381],\n",
       "       [137.599456, 137.384981, 137.338305, ..., 139.948746, 139.987529,\n",
       "        139.921587],\n",
       "       [137.627544, 137.508483, 137.48028 , ..., 136.956956, 136.90308 ,\n",
       "        136.792118]])"
      ]
     },
     "execution_count": 140,
     "metadata": {},
     "output_type": "execute_result"
    }
   ],
   "source": [
    "X = apple_df_ML.drop('gain', axis=1).values\n",
    "y = apple_df_ML['gain'].values\n",
    "X"
   ]
  },
  {
   "cell_type": "code",
   "execution_count": 141,
   "metadata": {},
   "outputs": [],
   "source": [
    "# import the necessary modules\n",
    "from sklearn.model_selection import train_test_split"
   ]
  },
  {
   "cell_type": "code",
   "execution_count": 142,
   "metadata": {},
   "outputs": [],
   "source": [
    "X_train, X_test, y_train, y_test = train_test_split(X, y, test_size=0.2, random_state=1204)"
   ]
  },
  {
   "cell_type": "code",
   "execution_count": 143,
   "metadata": {},
   "outputs": [],
   "source": [
    "from sklearn.preprocessing import MinMaxScaler"
   ]
  },
  {
   "cell_type": "code",
   "execution_count": 144,
   "metadata": {},
   "outputs": [],
   "source": [
    "scaler = MinMaxScaler()"
   ]
  },
  {
   "cell_type": "code",
   "execution_count": 145,
   "metadata": {},
   "outputs": [
    {
     "data": {
      "text/html": [
       "<style>#sk-container-id-6 {color: black;background-color: white;}#sk-container-id-6 pre{padding: 0;}#sk-container-id-6 div.sk-toggleable {background-color: white;}#sk-container-id-6 label.sk-toggleable__label {cursor: pointer;display: block;width: 100%;margin-bottom: 0;padding: 0.3em;box-sizing: border-box;text-align: center;}#sk-container-id-6 label.sk-toggleable__label-arrow:before {content: \"▸\";float: left;margin-right: 0.25em;color: #696969;}#sk-container-id-6 label.sk-toggleable__label-arrow:hover:before {color: black;}#sk-container-id-6 div.sk-estimator:hover label.sk-toggleable__label-arrow:before {color: black;}#sk-container-id-6 div.sk-toggleable__content {max-height: 0;max-width: 0;overflow: hidden;text-align: left;background-color: #f0f8ff;}#sk-container-id-6 div.sk-toggleable__content pre {margin: 0.2em;color: black;border-radius: 0.25em;background-color: #f0f8ff;}#sk-container-id-6 input.sk-toggleable__control:checked~div.sk-toggleable__content {max-height: 200px;max-width: 100%;overflow: auto;}#sk-container-id-6 input.sk-toggleable__control:checked~label.sk-toggleable__label-arrow:before {content: \"▾\";}#sk-container-id-6 div.sk-estimator input.sk-toggleable__control:checked~label.sk-toggleable__label {background-color: #d4ebff;}#sk-container-id-6 div.sk-label input.sk-toggleable__control:checked~label.sk-toggleable__label {background-color: #d4ebff;}#sk-container-id-6 input.sk-hidden--visually {border: 0;clip: rect(1px 1px 1px 1px);clip: rect(1px, 1px, 1px, 1px);height: 1px;margin: -1px;overflow: hidden;padding: 0;position: absolute;width: 1px;}#sk-container-id-6 div.sk-estimator {font-family: monospace;background-color: #f0f8ff;border: 1px dotted black;border-radius: 0.25em;box-sizing: border-box;margin-bottom: 0.5em;}#sk-container-id-6 div.sk-estimator:hover {background-color: #d4ebff;}#sk-container-id-6 div.sk-parallel-item::after {content: \"\";width: 100%;border-bottom: 1px solid gray;flex-grow: 1;}#sk-container-id-6 div.sk-label:hover label.sk-toggleable__label {background-color: #d4ebff;}#sk-container-id-6 div.sk-serial::before {content: \"\";position: absolute;border-left: 1px solid gray;box-sizing: border-box;top: 0;bottom: 0;left: 50%;z-index: 0;}#sk-container-id-6 div.sk-serial {display: flex;flex-direction: column;align-items: center;background-color: white;padding-right: 0.2em;padding-left: 0.2em;position: relative;}#sk-container-id-6 div.sk-item {position: relative;z-index: 1;}#sk-container-id-6 div.sk-parallel {display: flex;align-items: stretch;justify-content: center;background-color: white;position: relative;}#sk-container-id-6 div.sk-item::before, #sk-container-id-6 div.sk-parallel-item::before {content: \"\";position: absolute;border-left: 1px solid gray;box-sizing: border-box;top: 0;bottom: 0;left: 50%;z-index: -1;}#sk-container-id-6 div.sk-parallel-item {display: flex;flex-direction: column;z-index: 1;position: relative;background-color: white;}#sk-container-id-6 div.sk-parallel-item:first-child::after {align-self: flex-end;width: 50%;}#sk-container-id-6 div.sk-parallel-item:last-child::after {align-self: flex-start;width: 50%;}#sk-container-id-6 div.sk-parallel-item:only-child::after {width: 0;}#sk-container-id-6 div.sk-dashed-wrapped {border: 1px dashed gray;margin: 0 0.4em 0.5em 0.4em;box-sizing: border-box;padding-bottom: 0.4em;background-color: white;}#sk-container-id-6 div.sk-label label {font-family: monospace;font-weight: bold;display: inline-block;line-height: 1.2em;}#sk-container-id-6 div.sk-label-container {text-align: center;}#sk-container-id-6 div.sk-container {/* jupyter's `normalize.less` sets `[hidden] { display: none; }` but bootstrap.min.css set `[hidden] { display: none !important; }` so we also need the `!important` here to be able to override the default hidden behavior on the sphinx rendered scikit-learn.org. See: https://github.com/scikit-learn/scikit-learn/issues/21755 */display: inline-block !important;position: relative;}#sk-container-id-6 div.sk-text-repr-fallback {display: none;}</style><div id=\"sk-container-id-6\" class=\"sk-top-container\"><div class=\"sk-text-repr-fallback\"><pre>MinMaxScaler()</pre><b>In a Jupyter environment, please rerun this cell to show the HTML representation or trust the notebook. <br />On GitHub, the HTML representation is unable to render, please try loading this page with nbviewer.org.</b></div><div class=\"sk-container\" hidden><div class=\"sk-item\"><div class=\"sk-estimator sk-toggleable\"><input class=\"sk-toggleable__control sk-hidden--visually\" id=\"sk-estimator-id-6\" type=\"checkbox\" checked><label for=\"sk-estimator-id-6\" class=\"sk-toggleable__label sk-toggleable__label-arrow\">MinMaxScaler</label><div class=\"sk-toggleable__content\"><pre>MinMaxScaler()</pre></div></div></div></div></div>"
      ],
      "text/plain": [
       "MinMaxScaler()"
      ]
     },
     "execution_count": 145,
     "metadata": {},
     "output_type": "execute_result"
    }
   ],
   "source": [
    "scaler.fit(X_train)"
   ]
  },
  {
   "cell_type": "code",
   "execution_count": 146,
   "metadata": {},
   "outputs": [],
   "source": [
    "X_train = scaler.transform(X_train)\n",
    "X_test = scaler.transform(X_test)"
   ]
  },
  {
   "cell_type": "code",
   "execution_count": 35,
   "metadata": {},
   "outputs": [],
   "source": [
    "!TF_ENABLE_ONEDNN_OPTS=0\n",
    "!CUDA_VISIBLE_DEVICES=0\n",
    "!TF_ENABLE_ONEDNN_OPTS=0"
   ]
  },
  {
   "cell_type": "code",
   "execution_count": 147,
   "metadata": {},
   "outputs": [],
   "source": [
    "import tensorflow as tf\n",
    "from tensorflow.keras.models import Sequential\n",
    "from tensorflow.keras.layers import Dense, Activation,Dropout"
   ]
  },
  {
   "cell_type": "code",
   "execution_count": 148,
   "metadata": {},
   "outputs": [],
   "source": [
    "model = Sequential()\n",
    "\n",
    "model.add(Dense(units=1000, activation='relu'))\n",
    "#model.add(Dropout(0.1))\n",
    "\n",
    "model.add(Dense(units=500, activation='relu'))\n",
    "model.add(Dropout(0.1))\n",
    "\n",
    "model.add(Dense(units=250, activation='relu'))\n",
    "model.add(Dropout(0.1))\n",
    "\n",
    "#model.add(Dense(units=125, activation='relu'))\n",
    "\n",
    "#model.add(Dense(units=50, activation='relu'))\n",
    "\n",
    "#model.add(Dense(units=25, activation='relu'))\n",
    "#model.add(Dropout(0.1))\n",
    "\n",
    "#model.add(Dense(units=10, activation='relu'))\n",
    "#model.add(Dropout(0.1))\n",
    "\n",
    "#model.add(Dense(units=4, activation='relu'))\n",
    "#model.add(Dropout(0.1))\n",
    "\n",
    "model.add(Dense(units=1, activation='sigmoid'))\n",
    "model.add(Dropout(0.1))\n",
    "\n",
    "#binary_crossentropy\n",
    "model.compile(loss='binary_crossentropy', optimizer='adam')\n"
   ]
  },
  {
   "cell_type": "code",
   "execution_count": 150,
   "metadata": {},
   "outputs": [
    {
     "name": "stdout",
     "output_type": "stream",
     "text": [
      "Epoch 1/50\n",
      "2/2 [==============================] - 0s 46ms/step - loss: 1.4792 - val_loss: 0.7129\n",
      "Epoch 2/50\n",
      "2/2 [==============================] - 0s 25ms/step - loss: 1.3507 - val_loss: 0.7305\n",
      "Epoch 3/50\n",
      "2/2 [==============================] - 0s 28ms/step - loss: 1.5048 - val_loss: 0.7091\n",
      "Epoch 4/50\n",
      "2/2 [==============================] - 0s 24ms/step - loss: 1.3963 - val_loss: 0.7005\n",
      "Epoch 5/50\n",
      "2/2 [==============================] - 0s 24ms/step - loss: 1.2762 - val_loss: 0.7106\n",
      "Epoch 6/50\n",
      "2/2 [==============================] - 0s 26ms/step - loss: 1.4671 - val_loss: 0.7262\n",
      "Epoch 7/50\n",
      "2/2 [==============================] - 0s 26ms/step - loss: 1.5376 - val_loss: 0.7178\n",
      "Epoch 8/50\n",
      "2/2 [==============================] - 0s 27ms/step - loss: 1.4960 - val_loss: 0.7002\n",
      "Epoch 9/50\n",
      "2/2 [==============================] - 0s 27ms/step - loss: 1.1313 - val_loss: 0.6967\n",
      "Epoch 10/50\n",
      "2/2 [==============================] - 0s 27ms/step - loss: 1.2771 - val_loss: 0.7137\n",
      "Epoch 11/50\n",
      "2/2 [==============================] - 0s 27ms/step - loss: 1.4678 - val_loss: 0.7348\n",
      "Epoch 12/50\n",
      "2/2 [==============================] - 0s 28ms/step - loss: 1.3011 - val_loss: 0.7073\n",
      "Epoch 13/50\n",
      "2/2 [==============================] - 0s 26ms/step - loss: 1.1912 - val_loss: 0.6997\n",
      "Epoch 14/50\n",
      "2/2 [==============================] - 0s 24ms/step - loss: 1.3692 - val_loss: 0.7097\n",
      "Epoch 15/50\n",
      "2/2 [==============================] - 0s 25ms/step - loss: 1.4596 - val_loss: 0.7231\n",
      "Epoch 16/50\n",
      "2/2 [==============================] - 0s 24ms/step - loss: 1.4890 - val_loss: 0.7405\n",
      "Epoch 17/50\n",
      "2/2 [==============================] - 0s 26ms/step - loss: 1.5288 - val_loss: 0.7483\n",
      "Epoch 18/50\n",
      "2/2 [==============================] - 0s 25ms/step - loss: 1.5793 - val_loss: 0.7185\n",
      "Epoch 19/50\n",
      "2/2 [==============================] - 0s 24ms/step - loss: 1.3944 - val_loss: 0.7048\n",
      "Epoch 20/50\n",
      "2/2 [==============================] - 0s 28ms/step - loss: 1.5215 - val_loss: 0.7488\n",
      "Epoch 21/50\n",
      "2/2 [==============================] - 0s 27ms/step - loss: 1.2869 - val_loss: 0.7615\n",
      "Epoch 22/50\n",
      "2/2 [==============================] - 0s 27ms/step - loss: 1.3554 - val_loss: 0.7241\n",
      "Epoch 23/50\n",
      "2/2 [==============================] - 0s 28ms/step - loss: 1.3514 - val_loss: 0.7059\n",
      "Epoch 24/50\n",
      "2/2 [==============================] - 0s 25ms/step - loss: 1.4042 - val_loss: 0.7260\n",
      "Epoch 25/50\n",
      "2/2 [==============================] - 0s 24ms/step - loss: 1.5344 - val_loss: 0.7492\n",
      "Epoch 26/50\n",
      "2/2 [==============================] - 0s 24ms/step - loss: 1.4296 - val_loss: 0.7365\n",
      "Epoch 27/50\n",
      "2/2 [==============================] - 0s 25ms/step - loss: 1.4567 - val_loss: 0.7169\n",
      "Epoch 28/50\n",
      "2/2 [==============================] - 0s 26ms/step - loss: 1.3427 - val_loss: 0.7090\n",
      "Epoch 29/50\n",
      "2/2 [==============================] - 0s 26ms/step - loss: 1.7793 - val_loss: 0.7240\n",
      "Epoch 30/50\n",
      "2/2 [==============================] - 0s 24ms/step - loss: 1.3864 - val_loss: 0.7596\n",
      "Epoch 31/50\n",
      "2/2 [==============================] - 0s 27ms/step - loss: 1.3562 - val_loss: 0.7386\n",
      "Epoch 32/50\n",
      "2/2 [==============================] - 0s 26ms/step - loss: 1.3346 - val_loss: 0.7018\n",
      "Epoch 33/50\n",
      "2/2 [==============================] - 0s 25ms/step - loss: 1.3448 - val_loss: 0.7033\n",
      "Epoch 34/50\n",
      "2/2 [==============================] - 0s 25ms/step - loss: 1.2120 - val_loss: 0.7374\n",
      "Epoch 35/50\n",
      "2/2 [==============================] - 0s 26ms/step - loss: 1.0006 - val_loss: 0.7346\n",
      "Epoch 36/50\n",
      "2/2 [==============================] - 0s 23ms/step - loss: 1.6220 - val_loss: 0.7099\n",
      "Epoch 37/50\n",
      "2/2 [==============================] - 0s 24ms/step - loss: 1.5699 - val_loss: 0.7338\n",
      "Epoch 38/50\n",
      "2/2 [==============================] - 0s 24ms/step - loss: 1.4654 - val_loss: 0.7324\n",
      "Epoch 39/50\n",
      "2/2 [==============================] - 0s 27ms/step - loss: 1.3708 - val_loss: 0.7011\n",
      "Epoch 40/50\n",
      "2/2 [==============================] - 0s 24ms/step - loss: 1.2919 - val_loss: 0.6994\n",
      "Epoch 41/50\n",
      "2/2 [==============================] - 0s 25ms/step - loss: 1.2479 - val_loss: 0.7357\n",
      "Epoch 42/50\n",
      "2/2 [==============================] - 0s 24ms/step - loss: 1.1861 - val_loss: 0.7123\n",
      "Epoch 43/50\n",
      "2/2 [==============================] - 0s 26ms/step - loss: 1.4002 - val_loss: 0.6925\n",
      "Epoch 44/50\n",
      "2/2 [==============================] - 0s 25ms/step - loss: 1.7814 - val_loss: 0.7471\n",
      "Epoch 45/50\n",
      "2/2 [==============================] - 0s 26ms/step - loss: 1.3466 - val_loss: 0.7155\n",
      "Epoch 46/50\n",
      "2/2 [==============================] - 0s 28ms/step - loss: 1.3005 - val_loss: 0.7093\n",
      "Epoch 47/50\n",
      "2/2 [==============================] - 0s 26ms/step - loss: 1.3075 - val_loss: 0.6989\n",
      "Epoch 48/50\n",
      "2/2 [==============================] - 0s 26ms/step - loss: 1.2545 - val_loss: 0.7100\n",
      "Epoch 49/50\n",
      "2/2 [==============================] - 0s 24ms/step - loss: 1.3947 - val_loss: 0.7142\n",
      "Epoch 50/50\n",
      "2/2 [==============================] - 0s 24ms/step - loss: 1.3639 - val_loss: 0.6801\n"
     ]
    },
    {
     "data": {
      "text/plain": [
       "<keras.callbacks.History at 0x7fb373677370>"
      ]
     },
     "execution_count": 150,
     "metadata": {},
     "output_type": "execute_result"
    }
   ],
   "source": [
    "#train the model\n",
    "model.fit(x=X_train, y=y_train, epochs=50, batch_size=256, validation_data=(X_test, y_test), verbose=1)"
   ]
  },
  {
   "cell_type": "code",
   "execution_count": 151,
   "metadata": {},
   "outputs": [
    {
     "data": {
      "text/plain": [
       "<AxesSubplot:>"
      ]
     },
     "execution_count": 151,
     "metadata": {},
     "output_type": "execute_result"
    },
    {
     "data": {
      "image/png": "[encoded data removed]",
      "text/plain": [
       "<Figure size 432x288 with 1 Axes>"
      ]
     },
     "metadata": {
      "needs_background": "light"
     },
     "output_type": "display_data"
    }
   ],
   "source": [
    "model_loss = pd.DataFrame(model.history.history)\n",
    "model_loss.plot()"
   ]
  },
  {
   "cell_type": "code",
   "execution_count": 152,
   "metadata": {},
   "outputs": [],
   "source": [
    "from sklearn.metrics import confusion_matrix, classification_report"
   ]
  },
  {
   "cell_type": "code",
   "execution_count": 153,
   "metadata": {},
   "outputs": [
    {
     "name": "stdout",
     "output_type": "stream",
     "text": [
      "3/3 [==============================] - 0s 2ms/step\n"
     ]
    },
    {
     "data": {
      "text/plain": [
       "array([[1.],\n",
       "       [0.],\n",
       "       [1.],\n",
       "       [0.],\n",
       "       [1.],\n",
       "       [0.],\n",
       "       [1.],\n",
       "       [1.],\n",
       "       [0.],\n",
       "       [0.],\n",
       "       [1.],\n",
       "       [1.],\n",
       "       [1.],\n",
       "       [0.],\n",
       "       [0.],\n",
       "       [0.],\n",
       "       [0.],\n",
       "       [0.],\n",
       "       [0.],\n",
       "       [1.],\n",
       "       [1.],\n",
       "       [0.],\n",
       "       [0.],\n",
       "       [1.],\n",
       "       [1.],\n",
       "       [0.],\n",
       "       [0.],\n",
       "       [0.],\n",
       "       [1.],\n",
       "       [1.],\n",
       "       [1.],\n",
       "       [0.],\n",
       "       [1.],\n",
       "       [1.],\n",
       "       [0.],\n",
       "       [0.],\n",
       "       [1.],\n",
       "       [1.],\n",
       "       [0.],\n",
       "       [0.],\n",
       "       [1.],\n",
       "       [1.],\n",
       "       [0.],\n",
       "       [1.],\n",
       "       [1.],\n",
       "       [1.],\n",
       "       [0.],\n",
       "       [0.],\n",
       "       [1.],\n",
       "       [0.],\n",
       "       [1.],\n",
       "       [0.],\n",
       "       [1.],\n",
       "       [0.],\n",
       "       [1.],\n",
       "       [0.],\n",
       "       [0.],\n",
       "       [1.],\n",
       "       [0.],\n",
       "       [1.],\n",
       "       [0.],\n",
       "       [1.],\n",
       "       [1.],\n",
       "       [0.],\n",
       "       [1.],\n",
       "       [0.],\n",
       "       [0.],\n",
       "       [1.],\n",
       "       [1.],\n",
       "       [0.],\n",
       "       [1.],\n",
       "       [1.],\n",
       "       [1.],\n",
       "       [1.],\n",
       "       [1.],\n",
       "       [1.],\n",
       "       [0.],\n",
       "       [1.],\n",
       "       [0.],\n",
       "       [1.],\n",
       "       [1.],\n",
       "       [0.],\n",
       "       [0.],\n",
       "       [1.],\n",
       "       [1.],\n",
       "       [1.],\n",
       "       [1.],\n",
       "       [0.],\n",
       "       [0.],\n",
       "       [0.],\n",
       "       [1.],\n",
       "       [1.],\n",
       "       [1.],\n",
       "       [0.],\n",
       "       [0.],\n",
       "       [0.]], dtype=float32)"
      ]
     },
     "execution_count": 153,
     "metadata": {},
     "output_type": "execute_result"
    }
   ],
   "source": [
    "# if model.predict(X_test) > 0.44 then 1 else 0:\n",
    "predictions = model.predict(X_test)\n",
    "predictions[predictions > predictions.mean()] = 1\n",
    "predictions[predictions <= predictions.mean()] = 0\n",
    "predictions"
   ]
  },
  {
   "cell_type": "code",
   "execution_count": 154,
   "metadata": {},
   "outputs": [
    {
     "name": "stdout",
     "output_type": "stream",
     "text": [
      "              precision    recall  f1-score   support\n",
      "\n",
      "           0       0.53      0.57      0.55        42\n",
      "           1       0.65      0.61      0.63        54\n",
      "\n",
      "    accuracy                           0.59        96\n",
      "   macro avg       0.59      0.59      0.59        96\n",
      "weighted avg       0.60      0.59      0.59        96\n",
      "\n"
     ]
    }
   ],
   "source": [
    "print(classification_report(y_test, predictions,zero_division=0))"
   ]
  },
  {
   "cell_type": "code",
   "execution_count": 155,
   "metadata": {},
   "outputs": [
    {
     "data": {
      "text/plain": [
       "array([[24, 18],\n",
       "       [21, 33]])"
      ]
     },
     "execution_count": 155,
     "metadata": {},
     "output_type": "execute_result"
    }
   ],
   "source": [
    "confusion_matrix(y_test, predictions)"
   ]
  }
 ],
 "metadata": {
  "kernelspec": {
   "display_name": "Python 3.10.4 ('wgu-capstone')",
   "language": "python",
   "name": "python3"
  },
  "language_info": {
   "codemirror_mode": {
    "name": "ipython",
    "version": 3
   },
   "file_extension": ".py",
   "mimetype": "text/x-python",
   "name": "python",
   "nbconvert_exporter": "python",
   "pygments_lexer": "ipython3",
   "version": "3.10.4"
  },
  "orig_nbformat": 4,
  "vscode": {
   "interpreter": {
    "hash": "28892a974b391ec4cda080504c9714056d5a77d99c120a0e73eaf6e1e5cc7d13"
   }
  }
 },
 "nbformat": 4,
 "nbformat_minor": 2
}
