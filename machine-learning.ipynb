{
 "cells": [
  {
   "cell_type": "code",
   "execution_count": 95,
   "metadata": {},
   "outputs": [],
   "source": [
    "#imports\n",
    "import pickle\n",
    "import pandas as pd\n",
    "import numpy as np\n"
   ]
  },
  {
   "cell_type": "code",
   "execution_count": null,
   "metadata": {},
   "outputs": [],
   "source": [
    "#load apple_df_ML.pkl\n",
    "apple_df_ML = pickle.load(open('apple_df_ML.pkl', 'rb'))\n"
   ]
  },
  {
   "cell_type": "code",
   "execution_count": 102,
   "metadata": {},
   "outputs": [
    {
     "data": {
      "text/plain": [
       "array([[178.235733, 178.331486, 178.289889, ..., 180.895859, 180.809004,\n",
       "        180.69785 ],\n",
       "       [181.904974, 181.859539, 181.845449, ..., 181.90672 , 181.835772,\n",
       "        181.825168],\n",
       "       [179.322448, 179.339692, 179.324874, ..., 178.618207, 178.662931,\n",
       "        178.611732],\n",
       "       ...,\n",
       "       [141.985858, 142.114042, 142.227377, ..., 138.915147, 138.994524,\n",
       "        138.938381],\n",
       "       [137.599456, 137.384981, 137.338305, ..., 139.948746, 139.987529,\n",
       "        139.921587],\n",
       "       [137.627544, 137.508483, 137.48028 , ..., 136.956956, 136.90308 ,\n",
       "        136.792118]])"
      ]
     },
     "execution_count": 102,
     "metadata": {},
     "output_type": "execute_result"
    }
   ],
   "source": [
    "X = apple_df_ML.drop('gain', axis=1).values\n",
    "y = apple_df_ML['gain'].values\n",
    "X"
   ]
  },
  {
   "cell_type": "code",
   "execution_count": 103,
   "metadata": {},
   "outputs": [],
   "source": [
    "# import the necessary modules\n",
    "from sklearn.model_selection import train_test_split"
   ]
  },
  {
   "cell_type": "code",
   "execution_count": 104,
   "metadata": {},
   "outputs": [],
   "source": [
    "X_train, X_test, y_train, y_test = train_test_split(X, y, test_size=0.2, random_state=1204)"
   ]
  },
  {
   "cell_type": "code",
   "execution_count": 105,
   "metadata": {},
   "outputs": [],
   "source": [
    "from sklearn.preprocessing import MinMaxScaler"
   ]
  },
  {
   "cell_type": "code",
   "execution_count": 106,
   "metadata": {},
   "outputs": [],
   "source": [
    "scaler = MinMaxScaler()"
   ]
  },
  {
   "cell_type": "code",
   "execution_count": 107,
   "metadata": {},
   "outputs": [
    {
     "data": {
      "text/html": [
       "<style>#sk-container-id-5 {color: black;background-color: white;}#sk-container-id-5 pre{padding: 0;}#sk-container-id-5 div.sk-toggleable {background-color: white;}#sk-container-id-5 label.sk-toggleable__label {cursor: pointer;display: block;width: 100%;margin-bottom: 0;padding: 0.3em;box-sizing: border-box;text-align: center;}#sk-container-id-5 label.sk-toggleable__label-arrow:before {content: \"▸\";float: left;margin-right: 0.25em;color: #696969;}#sk-container-id-5 label.sk-toggleable__label-arrow:hover:before {color: black;}#sk-container-id-5 div.sk-estimator:hover label.sk-toggleable__label-arrow:before {color: black;}#sk-container-id-5 div.sk-toggleable__content {max-height: 0;max-width: 0;overflow: hidden;text-align: left;background-color: #f0f8ff;}#sk-container-id-5 div.sk-toggleable__content pre {margin: 0.2em;color: black;border-radius: 0.25em;background-color: #f0f8ff;}#sk-container-id-5 input.sk-toggleable__control:checked~div.sk-toggleable__content {max-height: 200px;max-width: 100%;overflow: auto;}#sk-container-id-5 input.sk-toggleable__control:checked~label.sk-toggleable__label-arrow:before {content: \"▾\";}#sk-container-id-5 div.sk-estimator input.sk-toggleable__control:checked~label.sk-toggleable__label {background-color: #d4ebff;}#sk-container-id-5 div.sk-label input.sk-toggleable__control:checked~label.sk-toggleable__label {background-color: #d4ebff;}#sk-container-id-5 input.sk-hidden--visually {border: 0;clip: rect(1px 1px 1px 1px);clip: rect(1px, 1px, 1px, 1px);height: 1px;margin: -1px;overflow: hidden;padding: 0;position: absolute;width: 1px;}#sk-container-id-5 div.sk-estimator {font-family: monospace;background-color: #f0f8ff;border: 1px dotted black;border-radius: 0.25em;box-sizing: border-box;margin-bottom: 0.5em;}#sk-container-id-5 div.sk-estimator:hover {background-color: #d4ebff;}#sk-container-id-5 div.sk-parallel-item::after {content: \"\";width: 100%;border-bottom: 1px solid gray;flex-grow: 1;}#sk-container-id-5 div.sk-label:hover label.sk-toggleable__label {background-color: #d4ebff;}#sk-container-id-5 div.sk-serial::before {content: \"\";position: absolute;border-left: 1px solid gray;box-sizing: border-box;top: 0;bottom: 0;left: 50%;z-index: 0;}#sk-container-id-5 div.sk-serial {display: flex;flex-direction: column;align-items: center;background-color: white;padding-right: 0.2em;padding-left: 0.2em;position: relative;}#sk-container-id-5 div.sk-item {position: relative;z-index: 1;}#sk-container-id-5 div.sk-parallel {display: flex;align-items: stretch;justify-content: center;background-color: white;position: relative;}#sk-container-id-5 div.sk-item::before, #sk-container-id-5 div.sk-parallel-item::before {content: \"\";position: absolute;border-left: 1px solid gray;box-sizing: border-box;top: 0;bottom: 0;left: 50%;z-index: -1;}#sk-container-id-5 div.sk-parallel-item {display: flex;flex-direction: column;z-index: 1;position: relative;background-color: white;}#sk-container-id-5 div.sk-parallel-item:first-child::after {align-self: flex-end;width: 50%;}#sk-container-id-5 div.sk-parallel-item:last-child::after {align-self: flex-start;width: 50%;}#sk-container-id-5 div.sk-parallel-item:only-child::after {width: 0;}#sk-container-id-5 div.sk-dashed-wrapped {border: 1px dashed gray;margin: 0 0.4em 0.5em 0.4em;box-sizing: border-box;padding-bottom: 0.4em;background-color: white;}#sk-container-id-5 div.sk-label label {font-family: monospace;font-weight: bold;display: inline-block;line-height: 1.2em;}#sk-container-id-5 div.sk-label-container {text-align: center;}#sk-container-id-5 div.sk-container {/* jupyter's `normalize.less` sets `[hidden] { display: none; }` but bootstrap.min.css set `[hidden] { display: none !important; }` so we also need the `!important` here to be able to override the default hidden behavior on the sphinx rendered scikit-learn.org. See: https://github.com/scikit-learn/scikit-learn/issues/21755 */display: inline-block !important;position: relative;}#sk-container-id-5 div.sk-text-repr-fallback {display: none;}</style><div id=\"sk-container-id-5\" class=\"sk-top-container\"><div class=\"sk-text-repr-fallback\"><pre>MinMaxScaler()</pre><b>In a Jupyter environment, please rerun this cell to show the HTML representation or trust the notebook. <br />On GitHub, the HTML representation is unable to render, please try loading this page with nbviewer.org.</b></div><div class=\"sk-container\" hidden><div class=\"sk-item\"><div class=\"sk-estimator sk-toggleable\"><input class=\"sk-toggleable__control sk-hidden--visually\" id=\"sk-estimator-id-5\" type=\"checkbox\" checked><label for=\"sk-estimator-id-5\" class=\"sk-toggleable__label sk-toggleable__label-arrow\">MinMaxScaler</label><div class=\"sk-toggleable__content\"><pre>MinMaxScaler()</pre></div></div></div></div></div>"
      ],
      "text/plain": [
       "MinMaxScaler()"
      ]
     },
     "execution_count": 107,
     "metadata": {},
     "output_type": "execute_result"
    }
   ],
   "source": [
    "scaler.fit(X_train)"
   ]
  },
  {
   "cell_type": "code",
   "execution_count": 108,
   "metadata": {},
   "outputs": [],
   "source": [
    "X_train = scaler.transform(X_train)\n",
    "X_test = scaler.transform(X_test)"
   ]
  },
  {
   "cell_type": "code",
   "execution_count": 35,
   "metadata": {},
   "outputs": [],
   "source": [
    "!TF_ENABLE_ONEDNN_OPTS=0\n",
    "!CUDA_VISIBLE_DEVICES=0\n",
    "!TF_ENABLE_ONEDNN_OPTS=0"
   ]
  },
  {
   "cell_type": "code",
   "execution_count": 109,
   "metadata": {},
   "outputs": [],
   "source": [
    "import tensorflow as tf\n",
    "from tensorflow.keras.models import Sequential\n",
    "from tensorflow.keras.layers import Dense, Activation,Dropout"
   ]
  },
  {
   "cell_type": "code",
   "execution_count": 119,
   "metadata": {},
   "outputs": [],
   "source": [
    "model = Sequential()\n",
    "\n",
    "model.add(Dense(units=1000, activation='relu'))\n",
    "#model.add(Dropout(0.1))\n",
    "\n",
    "model.add(Dense(units=500, activation='relu'))\n",
    "model.add(Dropout(0.1))\n",
    "\n",
    "model.add(Dense(units=250, activation='relu'))\n",
    "model.add(Dropout(0.1))\n",
    "\n",
    "#model.add(Dense(units=125, activation='relu'))\n",
    "\n",
    "#model.add(Dense(units=50, activation='relu'))\n",
    "\n",
    "#model.add(Dense(units=25, activation='relu'))\n",
    "#model.add(Dropout(0.1))\n",
    "\n",
    "#model.add(Dense(units=10, activation='relu'))\n",
    "#model.add(Dropout(0.1))\n",
    "\n",
    "#model.add(Dense(units=4, activation='relu'))\n",
    "#model.add(Dropout(0.1))\n",
    "\n",
    "model.add(Dense(units=1, activation='sigmoid'))\n",
    "model.add(Dropout(0.1))\n",
    "\n",
    "#binary_crossentropy\n",
    "model.compile(loss='binary_crossentropy', optimizer='adam')\n"
   ]
  },
  {
   "cell_type": "code",
   "execution_count": 130,
   "metadata": {},
   "outputs": [
    {
     "name": "stdout",
     "output_type": "stream",
     "text": [
      "Epoch 1/30\n",
      "1/1 [==============================] - 0s 44ms/step - loss: 1.3782 - val_loss: 0.7495\n",
      "Epoch 2/30\n",
      "1/1 [==============================] - 0s 24ms/step - loss: 1.1751 - val_loss: 0.7575\n",
      "Epoch 3/30\n",
      "1/1 [==============================] - 0s 24ms/step - loss: 1.3248 - val_loss: 0.6887\n",
      "Epoch 4/30\n",
      "1/1 [==============================] - 0s 24ms/step - loss: 1.1930 - val_loss: 0.6711\n",
      "Epoch 5/30\n",
      "1/1 [==============================] - 0s 24ms/step - loss: 1.3231 - val_loss: 0.7519\n",
      "Epoch 6/30\n",
      "1/1 [==============================] - 0s 24ms/step - loss: 1.5740 - val_loss: 0.6662\n",
      "Epoch 7/30\n",
      "1/1 [==============================] - 0s 25ms/step - loss: 0.8708 - val_loss: 0.6689\n",
      "Epoch 8/30\n",
      "1/1 [==============================] - 0s 24ms/step - loss: 1.2946 - val_loss: 1.0833\n",
      "Epoch 9/30\n",
      "1/1 [==============================] - 0s 24ms/step - loss: 1.6625 - val_loss: 1.1564\n",
      "Epoch 10/30\n",
      "1/1 [==============================] - 0s 23ms/step - loss: 2.4379 - val_loss: 1.0065\n",
      "Epoch 11/30\n",
      "1/1 [==============================] - 0s 25ms/step - loss: 1.4858 - val_loss: 0.7760\n",
      "Epoch 12/30\n",
      "1/1 [==============================] - 0s 23ms/step - loss: 1.3459 - val_loss: 0.6824\n",
      "Epoch 13/30\n",
      "1/1 [==============================] - 0s 25ms/step - loss: 1.4897 - val_loss: 0.6834\n",
      "Epoch 14/30\n",
      "1/1 [==============================] - 0s 26ms/step - loss: 1.2489 - val_loss: 0.6828\n",
      "Epoch 15/30\n",
      "1/1 [==============================] - 0s 26ms/step - loss: 1.6445 - val_loss: 0.6828\n",
      "Epoch 16/30\n",
      "1/1 [==============================] - 0s 30ms/step - loss: 1.0635 - val_loss: 0.7024\n",
      "Epoch 17/30\n",
      "1/1 [==============================] - 0s 27ms/step - loss: 2.0477 - val_loss: 0.7356\n",
      "Epoch 18/30\n",
      "1/1 [==============================] - 0s 24ms/step - loss: 0.9239 - val_loss: 0.7563\n",
      "Epoch 19/30\n",
      "1/1 [==============================] - 0s 26ms/step - loss: 1.6130 - val_loss: 0.7533\n",
      "Epoch 20/30\n",
      "1/1 [==============================] - 0s 25ms/step - loss: 1.4758 - val_loss: 0.7293\n",
      "Epoch 21/30\n",
      "1/1 [==============================] - 0s 23ms/step - loss: 1.1968 - val_loss: 0.6968\n",
      "Epoch 22/30\n",
      "1/1 [==============================] - 0s 22ms/step - loss: 1.4354 - val_loss: 0.6753\n",
      "Epoch 23/30\n",
      "1/1 [==============================] - 0s 23ms/step - loss: 1.5800 - val_loss: 0.6774\n",
      "Epoch 24/30\n",
      "1/1 [==============================] - 0s 22ms/step - loss: 1.4600 - val_loss: 0.7112\n",
      "Epoch 25/30\n",
      "1/1 [==============================] - 0s 22ms/step - loss: 1.0299 - val_loss: 0.7583\n",
      "Epoch 26/30\n",
      "1/1 [==============================] - 0s 26ms/step - loss: 1.4534 - val_loss: 0.7685\n",
      "Epoch 27/30\n",
      "1/1 [==============================] - 0s 25ms/step - loss: 1.3221 - val_loss: 0.7152\n",
      "Epoch 28/30\n",
      "1/1 [==============================] - 0s 27ms/step - loss: 1.7162 - val_loss: 0.6644\n",
      "Epoch 29/30\n",
      "1/1 [==============================] - 0s 24ms/step - loss: 1.1903 - val_loss: 0.7056\n",
      "Epoch 30/30\n",
      "1/1 [==============================] - 0s 24ms/step - loss: 1.1568 - val_loss: 0.7269\n"
     ]
    },
    {
     "data": {
      "text/plain": [
       "<keras.callbacks.History at 0x7fb3722a5c30>"
      ]
     },
     "execution_count": 130,
     "metadata": {},
     "output_type": "execute_result"
    }
   ],
   "source": [
    "#train the model\n",
    "model.fit(x=X_train, y=y_train, epochs=30, batch_size=256, validation_data=(X_test, y_test), verbose=1)"
   ]
  },
  {
   "cell_type": "code",
   "execution_count": 131,
   "metadata": {},
   "outputs": [
    {
     "data": {
      "text/plain": [
       "<AxesSubplot:>"
      ]
     },
     "execution_count": 131,
     "metadata": {},
     "output_type": "execute_result"
    },
    {
     "data": {
      "image/png": "[encoded data removed]",
      "text/plain": [
       "<Figure size 432x288 with 1 Axes>"
      ]
     },
     "metadata": {
      "needs_background": "light"
     },
     "output_type": "display_data"
    }
   ],
   "source": [
    "model_loss = pd.DataFrame(model.history.history)\n",
    "model_loss.plot()"
   ]
  },
  {
   "cell_type": "code",
   "execution_count": 132,
   "metadata": {},
   "outputs": [],
   "source": [
    "from sklearn.metrics import confusion_matrix, classification_report"
   ]
  },
  {
   "cell_type": "code",
   "execution_count": 135,
   "metadata": {},
   "outputs": [
    {
     "name": "stdout",
     "output_type": "stream",
     "text": [
      "1/1 [==============================] - 0s 16ms/step\n"
     ]
    },
    {
     "data": {
      "text/plain": [
       "array([[1.],\n",
       "       [0.],\n",
       "       [1.],\n",
       "       [0.],\n",
       "       [1.],\n",
       "       [1.],\n",
       "       [1.],\n",
       "       [1.],\n",
       "       [1.],\n",
       "       [1.],\n",
       "       [1.],\n",
       "       [0.],\n",
       "       [0.],\n",
       "       [0.],\n",
       "       [0.],\n",
       "       [0.],\n",
       "       [0.],\n",
       "       [1.],\n",
       "       [0.],\n",
       "       [1.],\n",
       "       [1.],\n",
       "       [0.],\n",
       "       [0.],\n",
       "       [0.],\n",
       "       [1.],\n",
       "       [0.],\n",
       "       [0.]], dtype=float32)"
      ]
     },
     "execution_count": 135,
     "metadata": {},
     "output_type": "execute_result"
    }
   ],
   "source": [
    "# if model.predict(X_test) > 0.44 then 1 else 0:\n",
    "predictions = model.predict(X_test)\n",
    "predictions[predictions > predictions.mean()] = 1\n",
    "predictions[predictions <= predictions.mean()] = 0\n",
    "predictions"
   ]
  },
  {
   "cell_type": "code",
   "execution_count": 136,
   "metadata": {},
   "outputs": [
    {
     "name": "stdout",
     "output_type": "stream",
     "text": [
      "              precision    recall  f1-score   support\n",
      "\n",
      "           0       0.57      0.67      0.62        12\n",
      "           1       0.69      0.60      0.64        15\n",
      "\n",
      "    accuracy                           0.63        27\n",
      "   macro avg       0.63      0.63      0.63        27\n",
      "weighted avg       0.64      0.63      0.63        27\n",
      "\n"
     ]
    }
   ],
   "source": [
    "print(classification_report(y_test, predictions,zero_division=0))"
   ]
  },
  {
   "cell_type": "code",
   "execution_count": 137,
   "metadata": {},
   "outputs": [
    {
     "data": {
      "text/plain": [
       "array([[8, 4],\n",
       "       [6, 9]])"
      ]
     },
     "execution_count": 137,
     "metadata": {},
     "output_type": "execute_result"
    }
   ],
   "source": [
    "confusion_matrix(y_test, predictions)"
   ]
  }
 ],
 "metadata": {
  "kernelspec": {
   "display_name": "Python 3.10.4 ('wgu-capstone')",
   "language": "python",
   "name": "python3"
  },
  "language_info": {
   "codemirror_mode": {
    "name": "ipython",
    "version": 3
   },
   "file_extension": ".py",
   "mimetype": "text/x-python",
   "name": "python",
   "nbconvert_exporter": "python",
   "pygments_lexer": "ipython3",
   "version": "3.10.4"
  },
  "orig_nbformat": 4,
  "vscode": {
   "interpreter": {
    "hash": "28892a974b391ec4cda080504c9714056d5a77d99c120a0e73eaf6e1e5cc7d13"
   }
  }
 },
 "nbformat": 4,
 "nbformat_minor": 2
}
