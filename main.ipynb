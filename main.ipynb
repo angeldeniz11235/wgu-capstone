{
 "cells": [
  {
   "cell_type": "code",
   "execution_count": 1,
   "metadata": {},
   "outputs": [],
   "source": [
    "from alpaca_trade_api.rest import REST, TimeFrame\n",
    "from alpaca_trade_api.stream import Stream\n",
    "\n",
    "# Import the API keys\n",
    "api_id = \"PKLXRG5MYKH326I8J1DV\"\n",
    "api_secret = \"TxPfLNWc7HlulXh17NLCX0ser8wrlqXmbjYKriiB\"\n",
    "\n",
    "# Create the REST API object for paper trading\n",
    "rest_api = REST(api_id, api_secret,'https://paper-api.alpaca.markets')"
   ]
  },
  {
   "cell_type": "code",
   "execution_count": null,
   "metadata": {},
   "outputs": [],
   "source": [
    "#import datetime\n",
    "import datetime as dt\n",
    "\n",
    "# get todays date\n",
    "today = dt.datetime.now().date()\n",
    "#today.strftime(\"%Y-%m-%d\")\n",
    "\n",
    "# date of end of last month\n",
    "end_date_last_month = today - dt.timedelta(days=today.day) \n",
    "\n",
    "# first day of 2020\n",
    "start_date_2020 = dt.date(2020, 1, 1)\n",
    "\n",
    "# Get bar data for apple stock from the last 2 years\n",
    "apple_bars = rest_api.get_bars('AAPL', TimeFrame.Minute, start_date_2020.strftime(\"%Y-%m-%d\"), end_date_last_month.strftime(\"%Y-%m-%d\"))"
   ]
  },
  {
   "cell_type": "code",
   "execution_count": 12,
   "metadata": {},
   "outputs": [],
   "source": [
    "# save apple_bars to a pickle file so we can use it later\n",
    "import pickle\n",
    "\n",
    "# create a pickle file\n",
    "apple_bar_data_file = open(\"apple_bar_data.pkl\", \"xb\")\n",
    "\n",
    "# save apple_bars to the pickle file\n",
    "pickle.dump(apple_bars, apple_bar_data_file)\n"
   ]
  },
  {
   "cell_type": "code",
   "execution_count": 2,
   "metadata": {},
   "outputs": [],
   "source": [
    "#if pickle is not imported, then import it\n",
    "if not 'pickle' in globals():\n",
    "    import pickle\n",
    "import sys\n",
    "# increase the recursion limit\n",
    "sys.setrecursionlimit(10000)\n",
    "    \n",
    "# load alpaca_bars from the pickle file \n",
    "data = open(\"apple_bar_data.pkl\", \"rb\")\n",
    "#apple_bars_df = pickle.load(data)\n",
    "data.close()"
   ]
  },
  {
   "cell_type": "code",
   "execution_count": 15,
   "metadata": {},
   "outputs": [],
   "source": [
    "# apple bar data frame\n",
    "apple_bars_df = apple_bars.df"
   ]
  },
  {
   "cell_type": "code",
   "execution_count": 20,
   "metadata": {},
   "outputs": [
    {
     "ename": "ValueError",
     "evalue": "Mime type rendering requires nbformat>=4.2.0 but it is not installed",
     "output_type": "error",
     "traceback": [
      "\u001b[0;31m---------------------------------------------------------------------------\u001b[0m",
      "\u001b[0;31mValueError\u001b[0m                                Traceback (most recent call last)",
      "\u001b[1;32m/home/j3rk/Desktop/programming.local/wgu-capstone/main.ipynb Cell 5\u001b[0m in \u001b[0;36m<cell line: 23>\u001b[0;34m()\u001b[0m\n\u001b[1;32m     <a href='vscode-notebook-cell:/home/j3rk/Desktop/programming.local/wgu-capstone/main.ipynb#ch0000004?line=19'>20</a>\u001b[0m fig \u001b[39m=\u001b[39m go\u001b[39m.\u001b[39mFigure(data\u001b[39m=\u001b[39mcandlestick_fig\u001b[39m.\u001b[39mdata \u001b[39m+\u001b[39m sma_fig\u001b[39m.\u001b[39mdata)\n\u001b[1;32m     <a href='vscode-notebook-cell:/home/j3rk/Desktop/programming.local/wgu-capstone/main.ipynb#ch0000004?line=21'>22</a>\u001b[0m \u001b[39m# displaying our chart\u001b[39;00m\n\u001b[0;32m---> <a href='vscode-notebook-cell:/home/j3rk/Desktop/programming.local/wgu-capstone/main.ipynb#ch0000004?line=22'>23</a>\u001b[0m fig\u001b[39m.\u001b[39;49mshow()\n",
      "File \u001b[0;32m/opt/anaconda/envs/wgu-capstone/lib/python3.10/site-packages/plotly/basedatatypes.py:3398\u001b[0m, in \u001b[0;36mBaseFigure.show\u001b[0;34m(self, *args, **kwargs)\u001b[0m\n\u001b[1;32m   3365\u001b[0m \u001b[39m\"\"\"\u001b[39;00m\n\u001b[1;32m   3366\u001b[0m \u001b[39mShow a figure using either the default renderer(s) or the renderer(s)\u001b[39;00m\n\u001b[1;32m   3367\u001b[0m \u001b[39mspecified by the renderer argument\u001b[39;00m\n\u001b[0;32m   (...)\u001b[0m\n\u001b[1;32m   3394\u001b[0m \u001b[39mNone\u001b[39;00m\n\u001b[1;32m   3395\u001b[0m \u001b[39m\"\"\"\u001b[39;00m\n\u001b[1;32m   3396\u001b[0m \u001b[39mimport\u001b[39;00m \u001b[39mplotly\u001b[39;00m\u001b[39m.\u001b[39;00m\u001b[39mio\u001b[39;00m \u001b[39mas\u001b[39;00m \u001b[39mpio\u001b[39;00m\n\u001b[0;32m-> 3398\u001b[0m \u001b[39mreturn\u001b[39;00m pio\u001b[39m.\u001b[39;49mshow(\u001b[39mself\u001b[39;49m, \u001b[39m*\u001b[39;49margs, \u001b[39m*\u001b[39;49m\u001b[39m*\u001b[39;49mkwargs)\n",
      "File \u001b[0;32m/opt/anaconda/envs/wgu-capstone/lib/python3.10/site-packages/plotly/io/_renderers.py:396\u001b[0m, in \u001b[0;36mshow\u001b[0;34m(fig, renderer, validate, **kwargs)\u001b[0m\n\u001b[1;32m    391\u001b[0m         \u001b[39mraise\u001b[39;00m \u001b[39mValueError\u001b[39;00m(\n\u001b[1;32m    392\u001b[0m             \u001b[39m\"\u001b[39m\u001b[39mMime type rendering requires ipython but it is not installed\u001b[39m\u001b[39m\"\u001b[39m\n\u001b[1;32m    393\u001b[0m         )\n\u001b[1;32m    395\u001b[0m     \u001b[39mif\u001b[39;00m \u001b[39mnot\u001b[39;00m nbformat \u001b[39mor\u001b[39;00m LooseVersion(nbformat\u001b[39m.\u001b[39m__version__) \u001b[39m<\u001b[39m LooseVersion(\u001b[39m\"\u001b[39m\u001b[39m4.2.0\u001b[39m\u001b[39m\"\u001b[39m):\n\u001b[0;32m--> 396\u001b[0m         \u001b[39mraise\u001b[39;00m \u001b[39mValueError\u001b[39;00m(\n\u001b[1;32m    397\u001b[0m             \u001b[39m\"\u001b[39m\u001b[39mMime type rendering requires nbformat>=4.2.0 but it is not installed\u001b[39m\u001b[39m\"\u001b[39m\n\u001b[1;32m    398\u001b[0m         )\n\u001b[1;32m    400\u001b[0m     ipython_display\u001b[39m.\u001b[39mdisplay(bundle, raw\u001b[39m=\u001b[39m\u001b[39mTrue\u001b[39;00m)\n\u001b[1;32m    402\u001b[0m \u001b[39m# external renderers\u001b[39;00m\n",
      "\u001b[0;31mValueError\u001b[0m: Mime type rendering requires nbformat>=4.2.0 but it is not installed"
     ]
    }
   ],
   "source": [
    "# create plot of apple_bars_df\n",
    "# plotly imports\n",
    "import plotly.graph_objects as go\n",
    "import plotly.express as px\n",
    "\n",
    "# SPY bar data candlestick plot\n",
    "candlestick_fig = go.Figure(data=[go.Candlestick(x=apple_bars_df.index,\n",
    "                open=apple_bars_df['open'],\n",
    "                high=apple_bars_df['high'],\n",
    "                low=apple_bars_df['low'],\n",
    "                close=apple_bars_df['close'])])\n",
    "\n",
    "# calculating 13 day SMA using pandas rolling mean\n",
    "sma = apple_bars_df['close'].rolling(13).mean().dropna()\n",
    "\n",
    "# creating a line plot for our sma\n",
    "sma_fig = px.line(x=sma.index, y=sma)\n",
    "\n",
    "# adding both plots onto one chart\n",
    "fig = go.Figure(data=candlestick_fig.data + sma_fig.data)\n",
    "\n",
    "# displaying our chart\n",
    "fig.show()"
   ]
  }
 ],
 "metadata": {
  "kernelspec": {
   "display_name": "Python 3.10.4 ('wgu-capstone')",
   "language": "python",
   "name": "python3"
  },
  "language_info": {
   "codemirror_mode": {
    "name": "ipython",
    "version": 3
   },
   "file_extension": ".py",
   "mimetype": "text/x-python",
   "name": "python",
   "nbconvert_exporter": "python",
   "pygments_lexer": "ipython3",
   "version": "3.10.4"
  },
  "orig_nbformat": 4,
  "vscode": {
   "interpreter": {
    "hash": "28892a974b391ec4cda080504c9714056d5a77d99c120a0e73eaf6e1e5cc7d13"
   }
  }
 },
 "nbformat": 4,
 "nbformat_minor": 2
}
