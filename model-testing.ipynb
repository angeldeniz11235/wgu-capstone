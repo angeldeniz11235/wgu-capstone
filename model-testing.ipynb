{
 "cells": [
  {
   "cell_type": "code",
   "execution_count": 31,
   "metadata": {},
   "outputs": [],
   "source": [
    "# Preprocess the test data\n",
    "\n",
    "import pickle\n",
    "# load the test data\n",
    "apple_bars_test_data = pickle.load(open('apple_bar_TEST_data.pkl', 'rb'))\n",
    "#preprocess the test data\n",
    "#convert the dataframe index to a column\n",
    "apple_bars_test_data['DateTime'] = apple_bars_test_data.index.to_pydatetime()\n",
    "# remove the index from the dataframe\n",
    "apple_bars_df = apple_bars_test_data.reset_index(drop=True)\n",
    "# show the head of the dataframe\n",
    "#apple_bars_df.head()\n",
    "#%%script false\n",
    "#drop all columns except for the DateTime and the vwap columns\n",
    "apple_bars_df = apple_bars_df.drop(columns=['open', 'high', 'low', 'close', 'volume','trade_count'])\n",
    "# show the head of the dataframe\n",
    "#apple_bars_df.head()\n",
    "#%%script false\n",
    "# create a new dataframe with a column called 'Date' that contains the date of the data and colums for every DateTime with the corresponding vwap value\n",
    "\n",
    "#create an array of all the unique dates in the dataframe\n",
    "dates = apple_bars_df['DateTime'].dt.date.unique()\n",
    "# make dates to list\n",
    "dates = dates.tolist()\n",
    "dates = list(map(lambda x: x.strftime('%Y-%m-%d'), dates))\n",
    "#dates\n",
    "\n",
    "#%%script false\n",
    "# import pandas as pd if not imported\n",
    "if not 'pd' in globals():\n",
    "    import pandas as pd\n",
    "    \n",
    "# in a new dataframe, for each date in the array, create a columns for every vwap value for that date\n",
    "apple_df = pd.DataFrame(index=dates, columns=range(0, 1000))\n",
    "\n",
    "# get all vwap values for each date\n",
    "for date in dates:\n",
    "    # get the vwap values for that date\n",
    "    vwap = apple_bars_df[apple_bars_df['DateTime'].dt.strftime('%Y-%m-%d') == date]['vwap'].tolist()\n",
    "    # fill vwap list with zeros to match the length of the columns\n",
    "    vwap = vwap + [0] * (1000 - len(vwap))\n",
    "    # create a column for that date\n",
    "    apple_df.loc[date] = vwap\n",
    "#save the dataframe to a pickle file\n",
    "apple_df.to_pickle('apple_TEST_df.pkl')\n",
    "#load the pickle file\n",
    "apple_df = pd.read_pickle('apple_TEST_df.pkl')\n",
    "#import numpy as np if not imported\n",
    "if not 'np' in globals():\n",
    "    import numpy as np\n",
    "# set 'gain' column to 1 if column '0' is less than the last non-zero column in the row\n",
    "apple_df['gain'] = apple_df.apply(lambda x: True if x[0] < x[x[x>0].last_valid_index()] else False, axis=1)\n",
    "\n",
    "#print the head of the dataframe showing the index and the gain column as well as column 0 and the last non-zero column\n",
    "#print(apple_df.head(50)['gain'])\n",
    "# pickle the dataframe\n",
    "apple_df.to_pickle('apple_TEST_df_ML.pkl')\n",
    "#imports\n",
    "import pickle\n",
    "import pandas as pd\n",
    "import numpy as np\n",
    "\n",
    "#load apple_df_ML.pkl\n",
    "apple_df_ML = pickle.load(open('apple_TEST_df_ML.pkl', 'rb'))\n",
    "\n",
    "#drop index column\n",
    "apple_df_ML.reset_index(drop=True, inplace=True)\n",
    "apple_df_ML\n",
    "# function drops any rows with more than 40% 0 values\n",
    "def drop_rows_with_many_zeros(df):\n",
    "    counts =(df==0).astype(int).sum(axis=1)\n",
    "    df = df[counts < len(df.columns)*0.4]\n",
    "    return df\n",
    "\n",
    "# function that replaces any nan values with the last non-nan value\n",
    "def replace_nan_with_last_non_nan(df):\n",
    "    for row_indx in range(len(df)):\n",
    "        last_non_nan_value = df.iloc[row_indx,0]\n",
    "        for col_indx, val in enumerate(df.iloc[row_indx,:]):\n",
    "            if not pd.notna(val):\n",
    "                df.iloc[row_indx,col_indx] = last_non_nan_value\n",
    "            else:\n",
    "                last_non_nan_value = val\n",
    "    return df\n",
    "#only keep values that are not equal to 0 except for the 'gain' column\n",
    "nan_value = float('NaN')\n",
    "\n",
    "#replace all 0s with NaN\n",
    "apple_df_ML.replace(0, nan_value, inplace=True)\n",
    "\n",
    "#drop rows with more than 40% 0 values\n",
    "apple_df_ML = drop_rows_with_many_zeros(apple_df_ML)\n",
    "\n",
    "#replace nan values with the last non-nan value\n",
    "apple_df_ML = replace_nan_with_last_non_nan(apple_df_ML)\n",
    "\n",
    "\n",
    "# for the 'gain' column, replace all True with 1 and all False with 0\n",
    "apple_df_ML.replace(True, 1, inplace=True)\n",
    "apple_df_ML.replace(False, 0, inplace=True)\n",
    "\n",
    "# remove all columns between 360 and 999\n",
    "apple_df_ML.drop(apple_df_ML.columns[360:1000], axis=1, inplace=True)\n",
    "# save the dataframe to a pickle file\n",
    "apple_df_ML.to_pickle('apple_df_TEST_ML.pkl')"
   ]
  },
  {
   "cell_type": "code",
   "execution_count": 32,
   "metadata": {},
   "outputs": [],
   "source": [
    "import tensorflow as tf\n",
    "from tensorflow.keras.models import Sequential\n",
    "from tensorflow.keras.layers import Dense, Activation,Dropout\n",
    "from tensorflow.keras import layers\n",
    "from tensorflow.keras import activations"
   ]
  },
  {
   "cell_type": "code",
   "execution_count": 33,
   "metadata": {},
   "outputs": [
    {
     "name": "stdout",
     "output_type": "stream",
     "text": [
      "Model: \"sequential_14\"\n",
      "_________________________________________________________________\n",
      " Layer (type)                Output Shape              Param #   \n",
      "=================================================================\n",
      " dense_46 (Dense)            (None, 1000)              361000    \n",
      "                                                                 \n",
      " dropout_31 (Dropout)        (None, 1000)              0         \n",
      "                                                                 \n",
      " dense_47 (Dense)            (None, 750)               750750    \n",
      "                                                                 \n",
      " dropout_32 (Dropout)        (None, 750)               0         \n",
      "                                                                 \n",
      " dense_48 (Dense)            (None, 1)                 751       \n",
      "                                                                 \n",
      "=================================================================\n",
      "Total params: 1,112,501\n",
      "Trainable params: 1,112,501\n",
      "Non-trainable params: 0\n",
      "_________________________________________________________________\n"
     ]
    }
   ],
   "source": [
    "#load the model\n",
    "model = tf.keras.models.load_model('models/apple_model_ML.h5')\n",
    "model.summary()"
   ]
  },
  {
   "cell_type": "code",
   "execution_count": 37,
   "metadata": {},
   "outputs": [],
   "source": [
    "#load the dataframe\n",
    "test_data = pd.read_pickle('apple_df_TEST_ML.pkl')\n"
   ]
  },
  {
   "cell_type": "code",
   "execution_count": 40,
   "metadata": {},
   "outputs": [
    {
     "name": "stdout",
     "output_type": "stream",
     "text": [
      "1/1 [==============================] - 0s 15ms/step\n"
     ]
    },
    {
     "data": {
      "text/plain": [
       "array([[1.],\n",
       "       [0.],\n",
       "       [0.],\n",
       "       [1.],\n",
       "       [1.],\n",
       "       [0.],\n",
       "       [1.],\n",
       "       [0.],\n",
       "       [1.],\n",
       "       [0.],\n",
       "       [0.],\n",
       "       [1.],\n",
       "       [1.],\n",
       "       [0.],\n",
       "       [0.],\n",
       "       [0.]], dtype=float32)"
      ]
     },
     "execution_count": 40,
     "metadata": {},
     "output_type": "execute_result"
    }
   ],
   "source": [
    "# use the model to predict the gain column\n",
    "\n",
    "#drop the gain column\n",
    "input_data = test_data.drop(columns=['gain'], axis=1)\n",
    "\n",
    "from sklearn.preprocessing import MinMaxScaler\n",
    "scaler = MinMaxScaler()\n",
    "\n",
    "scaler.fit(input_data)\n",
    "input_data = scaler.transform(input_data)\n",
    "\n",
    "#predict the gain column\n",
    "predictions = model.predict(input_data )\n",
    "predictions[predictions > (predictions.mean())] = 1\n",
    "predictions[predictions <= (predictions.mean())] = 0\n",
    "predictions"
   ]
  },
  {
   "cell_type": "code",
   "execution_count": 41,
   "metadata": {},
   "outputs": [
    {
     "data": {
      "text/plain": [
       "array([[5, 1],\n",
       "       [4, 6]])"
      ]
     },
     "execution_count": 41,
     "metadata": {},
     "output_type": "execute_result"
    }
   ],
   "source": [
    "#import confusion matrix\n",
    "import sklearn.metrics as metrics\n",
    "\n",
    "metrics.confusion_matrix(test_data['gain'], predictions)"
   ]
  }
 ],
 "metadata": {
  "kernelspec": {
   "display_name": "Python 3.10.4 ('wgu-capstone')",
   "language": "python",
   "name": "python3"
  },
  "language_info": {
   "codemirror_mode": {
    "name": "ipython",
    "version": 3
   },
   "file_extension": ".py",
   "mimetype": "text/x-python",
   "name": "python",
   "nbconvert_exporter": "python",
   "pygments_lexer": "ipython3",
   "version": "3.10.4"
  },
  "orig_nbformat": 4,
  "vscode": {
   "interpreter": {
    "hash": "28892a974b391ec4cda080504c9714056d5a77d99c120a0e73eaf6e1e5cc7d13"
   }
  }
 },
 "nbformat": 4,
 "nbformat_minor": 2
}
